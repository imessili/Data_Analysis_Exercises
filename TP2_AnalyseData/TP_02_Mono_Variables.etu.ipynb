{
 "cells": [
  {
   "cell_type": "markdown",
   "metadata": {},
   "source": [
    "# TP2 Mono Variables\n",
    "\n",
    "## Objectifs\n",
    "\n",
    "Le but de ce TP est de manipuler, analyser et implémenter les descripteurs mono variables vus en cours comme la moyenne, médiane, modalités, effectifs et fréquence. \n",
    "\n",
    "\n",
    "À la fin du TP, il faudra être capable de prendre en main un jeu de données, et de mettre en oeuvre les descripteurs pertinents au regard de la nature de la variable.  \n",
    "\n"
   ]
  },
  {
   "cell_type": "code",
   "execution_count": null,
   "metadata": {},
   "outputs": [],
   "source": []
  },
  {
   "cell_type": "code",
   "execution_count": 4,
   "metadata": {},
   "outputs": [],
   "source": [
    "#importation des bibliothèques\n",
    "import numpy as np\n",
    "import matplotlib.pyplot as plt"
   ]
  },
  {
   "cell_type": "markdown",
   "metadata": {},
   "source": [
    "##  Des vraies données\n",
    "1. Récupérez le fichier `TP_02_Mono_Variables.txt` sur moodle. Copiez le dans le répertoire courant. Chargez les données du fichier  et vérifiez que vous l’avez bien fait."
   ]
  },
  {
   "cell_type": "code",
   "execution_count": 5,
   "metadata": {
    "tags": []
   },
   "outputs": [],
   "source": [
    "arr = np.array(np.loadtxt(\"TP_02_Mono_Variables.txt\", dtype=float))"
   ]
  },
  {
   "cell_type": "code",
   "execution_count": 4,
   "metadata": {},
   "outputs": [
    {
     "data": {
      "text/plain": [
       "array([[ 46.  ,   1.  ,   0.  , ...,   0.94,   4.  ,   4.  ],\n",
       "       [ 49.  ,   2.  ,   0.  , ...,   2.35,   4.  ,   4.  ],\n",
       "       [506.  ,   2.  ,   1.  , ...,   2.33,   4.  ,   3.  ],\n",
       "       ...,\n",
       "       [426.  ,   3.  ,   1.  , ...,   1.05,   6.  ,   5.  ],\n",
       "       [427.  ,   4.  ,   0.  , ...,   2.07,   2.  ,   2.  ],\n",
       "       [428.  ,   4.  ,   0.  , ...,   2.11,   2.  ,   2.  ]])"
      ]
     },
     "metadata": {},
     "output_type": "display_data"
    }
   ],
   "source": [
    "display(arr)"
   ]
  },
  {
   "cell_type": "markdown",
   "metadata": {},
   "source": [
    "2. Quelles sont les dimensions des données ? Combien d'observations $n$ et chaque observation est décrite par combien de variables $p$ ?"
   ]
  },
  {
   "cell_type": "code",
   "execution_count": 5,
   "metadata": {},
   "outputs": [
    {
     "name": "stdout",
     "output_type": "stream",
     "text": [
      "Nombre de Dimensions:  2\n",
      "p et n:  (410, 46)\n"
     ]
    }
   ],
   "source": [
    "print(\"Nombre de Dimensions: \", arr.ndim)\n",
    "print(\"p et n: \", arr.shape)"
   ]
  },
  {
   "cell_type": "markdown",
   "metadata": {},
   "source": [
    "3. Nous allons travailler sur la treizième variable. Il faut donc extraire la variable indicée par 12 du tableau data1 et affectez la à une variable `x`. Quelle est la nature de cette variable ?"
   ]
  },
  {
   "cell_type": "code",
   "execution_count": 19,
   "metadata": {},
   "outputs": [],
   "source": [
    "x = arr[:, 12]"
   ]
  },
  {
   "cell_type": "code",
   "execution_count": 20,
   "metadata": {},
   "outputs": [
    {
     "name": "stdout",
     "output_type": "stream",
     "text": [
      "La nature de cette variable est array: \n",
      " [15.   6.5  7.  20.  26.  31.  35.  17.   8.  10.  20.  30.  27.  30.\n",
      "  9.  17.5 15.   6.  13.  23.  12.5 12.  28.  15.  28.  16.  16.   9.\n",
      " 32.  20.  27.   4.  24.  15.  20.  10.  15.  10.  25.  15.  20.  12.\n",
      " 25.  55.  30.  50.  37.5  9.  25.  10.  19.  20.   0.  18.  25.  21.\n",
      "  9.  20.  17.5 20.   2.  27.   8.  30.  28.  25.   9.  25.  16.  15.\n",
      " 10.  15.  14.  25.  16.  20.  22.5 20.  30.  22.  20.  20.  25.5 25.\n",
      " 13.  20.  10.  34.  10.  14.  35.  15.  30.  19.  10.  45.   2.   8.\n",
      " 15.  10.   4.  16.  20.  12.  50.  10.  13.  14.5 20.  20.   6.  25.\n",
      " 10.  26.   7.5 20.  25.   0.  30.  30.  17.   6.5 30.  12.  15.   5.\n",
      " 25.  18.  30.  10.  33.  20.  20.  42.  19.  10.  10.  35.  25.  10.\n",
      "  8.  12.  18.  13.  11.  15.  10.  16.   8.  12.   9.  14.  46.  45.\n",
      " 16.  10.  27.   7.  10.  20.  23.  12.  10.   8.  20.  31.  35.  10.\n",
      " 60.  30.   6.  13.  12.  30.  25.  40.  20.  30.  23.5 25.  25.  22.\n",
      " 20.  25.  31.  12.  15.  25.  15.  14.   7.  20.5 15.   6.5 20.   6.\n",
      " 15.  20.  18.  15.  10.  27.  20.  35.   7.  15.  32.  25.  20.  30.\n",
      " 11.  15.  35.  22.  18.  30.   3.  15.  12.  20.  40.  15.  13.  20.\n",
      " 40.  35.  11.  15.  14.  35.  25.  22.5 15.  19.  32.  38.  10.   0.\n",
      " 25.5 20.  16.  25.  14.5 25.  40.  15.  35.  20.  20.  27.5 15.   7.\n",
      " 12.  40.  32.  20.  32.  24.  40.  20.  21.  12.  12.   3.  15.   4.\n",
      "  9.  20.  15.  10.  13.  30.   0.  12.  60.  33.  14.  12.   8.5 10.\n",
      " 32.  36.  19.  28.  17.5 20.  30.  10.  11.  13.   4.   9.  15.  28.\n",
      " 24.  18.  27.  22.  28.5 40.  25.   6.   7.  17.  11.  22.   4.  25.\n",
      " 30.  40.  16.   6.   4.   7.  10.  22.  20.  13.  10.  20.  20.  10.\n",
      " 14.   4.  15.   4.  14.  23.  25.  15.  18.  20.  12.  12.  20.  15.\n",
      "  9.  15.  35.  20.  20.  17.5 28.   6.   9.  12.  15.   8.   7.  11.\n",
      " 13.  15.  16.5 12.  29.5  6.  30.   7.   6.  10.5 10.5  9.  27.5 19.\n",
      " 22.5 17.  22.  25.  13.  13.  25.  20.  17.  20.  15.  11.5 10.   6.\n",
      " 12.  15.   4.   0.  14.  19.   5.  10.  16.  28.  13.   8.  15.   6.\n",
      " 10.  17.  35.  36.  17.  36.  36.  32.  28.  15.  10.  10.   7.  10.\n",
      "  6.5 33.   8.  33. ]\n"
     ]
    }
   ],
   "source": [
    "print(\"La nature de cette variable est array: \\n\",x)"
   ]
  },
  {
   "cell_type": "markdown",
   "metadata": {},
   "source": [
    "4. Calculez la moyenne de la variable x de deux manières différentes."
   ]
  },
  {
   "cell_type": "code",
   "execution_count": 21,
   "metadata": {},
   "outputs": [
    {
     "name": "stdout",
     "output_type": "stream",
     "text": [
      "18.647560975609757\n"
     ]
    }
   ],
   "source": [
    "## 1er manière\n",
    "mean_np = np.mean(x)\n",
    "print(mean_np)"
   ]
  },
  {
   "cell_type": "code",
   "execution_count": 22,
   "metadata": {},
   "outputs": [
    {
     "name": "stdout",
     "output_type": "stream",
     "text": [
      "18.647560975609757\n",
      "18.647560975609757\n"
     ]
    }
   ],
   "source": [
    "## 2eme manière\n",
    "mean_sum = np.sum(x) / len(x)\n",
    "print(mean_sum)\n",
    "\n",
    "## 3eme manière\n",
    "somme = 0\n",
    "for e in x:\n",
    "    somme += e\n",
    "mean_trad = somme / len(x)\n",
    "print(mean_trad)"
   ]
  },
  {
   "cell_type": "markdown",
   "metadata": {},
   "source": [
    "5. Calculez, à partir des observations de x, $\\hat{\\mathbb{P}}(x ≤ 50)$ et la fréquence empirique d’observation des la modalité $50 : \\hat{\\mathbb{P}}(x = 50)$"
   ]
  },
  {
   "cell_type": "code",
   "execution_count": 23,
   "metadata": {},
   "outputs": [
    {
     "name": "stdout",
     "output_type": "stream",
     "text": [
      "0.9926829268292683\n",
      "0.004878048780487805\n"
     ]
    },
    {
     "data": {
      "text/plain": [
       "\"\\nProbabilité Empirique :\\n- La probabilité empirique est une estimation de la probabilité basée sur des observations ou des données réelles.\\n- Elle est calculée en observant la fréquence relative d'un événement par rapport au nombre total d'observations.\\n- La probabilité empirique est souvent utilisée lorsque les probabilités théoriques \\n  ne sont pas connues ou ne peuvent pas être dérivées facilement.\\n\\nProbabilité Théorique :\\n- La probabilité, dans le contexte de la théorie des probabilités, est une mesure mathématique qui exprime \\n  la certitude ou la chance qu'un événement se produise.\\n- Elle est basée sur des modèles mathématiques abstraits et des lois de probabilité.\\n- La probabilité est définie à l'aide de règles mathématiques, telles que \\n  l'axiome de probabilité, qui établit des propriétés que la probabilité doit respecter.\\n\""
      ]
     },
     "execution_count": 23,
     "metadata": {},
     "output_type": "execute_result"
    }
   ],
   "source": [
    "##probabilité empirique\n",
    "prob_empirique_x_le_50 = np.sum(x <= 50) / len(x)\n",
    "print(prob_empirique_x_le_50 )\n",
    "\n",
    "##fréquence empirique\n",
    "prob_empirique_x_egal_50 = np.sum(x == 50) / len(x)\n",
    "print(prob_empirique_x_egal_50)\n",
    "\n",
    "\"\"\"\n",
    "Probabilité Empirique :\n",
    "- La probabilité empirique est une estimation de la probabilité basée sur des observations ou des données réelles.\n",
    "- Elle est calculée en observant la fréquence relative d'un événement par rapport au nombre total d'observations.\n",
    "- La probabilité empirique est souvent utilisée lorsque les probabilités théoriques \n",
    "  ne sont pas connues ou ne peuvent pas être dérivées facilement.\n",
    "\n",
    "Probabilité Théorique :\n",
    "- La probabilité, dans le contexte de la théorie des probabilités, est une mesure mathématique qui exprime \n",
    "  la certitude ou la chance qu'un événement se produise.\n",
    "- Elle est basée sur des modèles mathématiques abstraits et des lois de probabilité.\n",
    "- La probabilité est définie à l'aide de règles mathématiques, telles que \n",
    "  l'axiome de probabilité, qui établit des propriétés que la probabilité doit respecter.\n",
    "\"\"\""
   ]
  },
  {
   "cell_type": "markdown",
   "metadata": {},
   "source": [
    "6. Recherchez des différentes modalités de la variable x"
   ]
  },
  {
   "cell_type": "code",
   "execution_count": 24,
   "metadata": {},
   "outputs": [
    {
     "name": "stdout",
     "output_type": "stream",
     "text": [
      "modalités :  [ 0.   2.   3.   4.   5.   6.   6.5  7.   7.5  8.   8.5  9.  10.  10.5\n",
      " 11.  11.5 12.  12.5 13.  14.  14.5 15.  16.  16.5 17.  17.5 18.  19.\n",
      " 20.  20.5 21.  22.  22.5 23.  23.5 24.  25.  25.5 26.  27.  27.5 28.\n",
      " 28.5 29.5 30.  31.  32.  33.  34.  35.  36.  37.5 38.  40.  42.  45.\n",
      " 46.  50.  55.  60. ]\n"
     ]
    }
   ],
   "source": [
    "## Les modalités d'une variable se réfèrent aux différentes valeurs uniques que cette variable\n",
    "## peut prendre dans un ensemble de données. \n",
    "\n",
    "unique_values, counts = np.unique(x, return_counts=True)\n",
    "\n",
    "print(\"modalités : \", unique_values)"
   ]
  },
  {
   "cell_type": "markdown",
   "metadata": {},
   "source": [
    "7. Calculez des effectifs par modalité"
   ]
  },
  {
   "cell_type": "code",
   "execution_count": 27,
   "metadata": {},
   "outputs": [
    {
     "name": "stdout",
     "output_type": "stream",
     "text": [
      "Modalités: [ 0.   2.   3.   4.   5.   6.   6.5  7.   7.5  8.   8.5  9.  10.  10.5\n",
      " 11.  11.5 12.  12.5 13.  14.  14.5 15.  16.  16.5 17.  17.5 18.  19.\n",
      " 20.  20.5 21.  22.  22.5 23.  23.5 24.  25.  25.5 26.  27.  27.5 28.\n",
      " 28.5 29.5 30.  31.  32.  33.  34.  35.  36.  37.5 38.  40.  42.  45.\n",
      " 46.  50.  55.  60. ]\n",
      "Counts: [ 5  2  2  9  2 11  4 10  1  9  1 11 34  2  6  1 20  1 13  9  2 38 10  1\n",
      "  7  4  7  7 45  1  2  7  3  3  1  3 26  2  2  6  2  8  1  1 19  3  7  4\n",
      "  1 11  4  1  1  8  1  2  1  2  1  2]\n"
     ]
    }
   ],
   "source": [
    "unique_values, counts = np.unique(x, return_counts=True)\n",
    "\n",
    "print(\"Modalités:\", unique_values)\n",
    "print(\"Counts:\", counts)"
   ]
  },
  {
   "cell_type": "markdown",
   "metadata": {},
   "source": [
    "8. Calculez des effectifs cumulés de chaque modalité, les fréquences et les fréquences cumulées."
   ]
  },
  {
   "cell_type": "code",
   "execution_count": 42,
   "metadata": {},
   "outputs": [
    {
     "name": "stdout",
     "output_type": "stream",
     "text": [
      "Modalité : 0.0,Effectif Cumulé : 5, Fréquence : 0.012195121951219513, Fréquence Cumulée : 0.012195121951219513\n",
      "Modalité : 2.0,Effectif Cumulé : 7, Fréquence : 0.004878048780487805, Fréquence Cumulée : 0.01707317073170732\n",
      "Modalité : 3.0,Effectif Cumulé : 9, Fréquence : 0.004878048780487805, Fréquence Cumulée : 0.021951219512195124\n",
      "Modalité : 4.0,Effectif Cumulé : 18, Fréquence : 0.02195121951219512, Fréquence Cumulée : 0.04390243902439024\n",
      "Modalité : 5.0,Effectif Cumulé : 20, Fréquence : 0.004878048780487805, Fréquence Cumulée : 0.048780487804878044\n",
      "Modalité : 6.0,Effectif Cumulé : 31, Fréquence : 0.026829268292682926, Fréquence Cumulée : 0.07560975609756097\n",
      "Modalité : 6.5,Effectif Cumulé : 35, Fréquence : 0.00975609756097561, Fréquence Cumulée : 0.08536585365853658\n",
      "Modalité : 7.0,Effectif Cumulé : 45, Fréquence : 0.024390243902439025, Fréquence Cumulée : 0.1097560975609756\n",
      "Modalité : 7.5,Effectif Cumulé : 46, Fréquence : 0.0024390243902439024, Fréquence Cumulée : 0.1121951219512195\n",
      "Modalité : 8.0,Effectif Cumulé : 55, Fréquence : 0.02195121951219512, Fréquence Cumulée : 0.13414634146341461\n",
      "Modalité : 8.5,Effectif Cumulé : 56, Fréquence : 0.0024390243902439024, Fréquence Cumulée : 0.13658536585365852\n",
      "Modalité : 9.0,Effectif Cumulé : 67, Fréquence : 0.026829268292682926, Fréquence Cumulée : 0.16341463414634144\n",
      "Modalité : 10.0,Effectif Cumulé : 101, Fréquence : 0.08292682926829269, Fréquence Cumulée : 0.24634146341463414\n",
      "Modalité : 10.5,Effectif Cumulé : 103, Fréquence : 0.004878048780487805, Fréquence Cumulée : 0.25121951219512195\n",
      "Modalité : 11.0,Effectif Cumulé : 109, Fréquence : 0.014634146341463415, Fréquence Cumulée : 0.2658536585365854\n",
      "Modalité : 11.5,Effectif Cumulé : 110, Fréquence : 0.0024390243902439024, Fréquence Cumulée : 0.2682926829268293\n",
      "Modalité : 12.0,Effectif Cumulé : 130, Fréquence : 0.04878048780487805, Fréquence Cumulée : 0.3170731707317073\n",
      "Modalité : 12.5,Effectif Cumulé : 131, Fréquence : 0.0024390243902439024, Fréquence Cumulée : 0.3195121951219512\n",
      "Modalité : 13.0,Effectif Cumulé : 144, Fréquence : 0.03170731707317073, Fréquence Cumulée : 0.35121951219512193\n",
      "Modalité : 14.0,Effectif Cumulé : 153, Fréquence : 0.02195121951219512, Fréquence Cumulée : 0.37317073170731707\n",
      "Modalité : 14.5,Effectif Cumulé : 155, Fréquence : 0.004878048780487805, Fréquence Cumulée : 0.3780487804878049\n",
      "Modalité : 15.0,Effectif Cumulé : 193, Fréquence : 0.09268292682926829, Fréquence Cumulée : 0.47073170731707314\n",
      "Modalité : 16.0,Effectif Cumulé : 203, Fréquence : 0.024390243902439025, Fréquence Cumulée : 0.4951219512195122\n",
      "Modalité : 16.5,Effectif Cumulé : 204, Fréquence : 0.0024390243902439024, Fréquence Cumulée : 0.4975609756097561\n",
      "Modalité : 17.0,Effectif Cumulé : 211, Fréquence : 0.01707317073170732, Fréquence Cumulée : 0.5146341463414634\n",
      "Modalité : 17.5,Effectif Cumulé : 215, Fréquence : 0.00975609756097561, Fréquence Cumulée : 0.524390243902439\n",
      "Modalité : 18.0,Effectif Cumulé : 222, Fréquence : 0.01707317073170732, Fréquence Cumulée : 0.5414634146341464\n",
      "Modalité : 19.0,Effectif Cumulé : 229, Fréquence : 0.01707317073170732, Fréquence Cumulée : 0.5585365853658537\n",
      "Modalité : 20.0,Effectif Cumulé : 274, Fréquence : 0.10975609756097561, Fréquence Cumulée : 0.6682926829268293\n",
      "Modalité : 20.5,Effectif Cumulé : 275, Fréquence : 0.0024390243902439024, Fréquence Cumulée : 0.6707317073170732\n",
      "Modalité : 21.0,Effectif Cumulé : 277, Fréquence : 0.004878048780487805, Fréquence Cumulée : 0.675609756097561\n",
      "Modalité : 22.0,Effectif Cumulé : 284, Fréquence : 0.01707317073170732, Fréquence Cumulée : 0.6926829268292684\n",
      "Modalité : 22.5,Effectif Cumulé : 287, Fréquence : 0.007317073170731708, Fréquence Cumulée : 0.7000000000000001\n",
      "Modalité : 23.0,Effectif Cumulé : 290, Fréquence : 0.007317073170731708, Fréquence Cumulée : 0.7073170731707318\n",
      "Modalité : 23.5,Effectif Cumulé : 291, Fréquence : 0.0024390243902439024, Fréquence Cumulée : 0.7097560975609757\n",
      "Modalité : 24.0,Effectif Cumulé : 294, Fréquence : 0.007317073170731708, Fréquence Cumulée : 0.7170731707317074\n",
      "Modalité : 25.0,Effectif Cumulé : 320, Fréquence : 0.06341463414634146, Fréquence Cumulée : 0.7804878048780488\n",
      "Modalité : 25.5,Effectif Cumulé : 322, Fréquence : 0.004878048780487805, Fréquence Cumulée : 0.7853658536585366\n",
      "Modalité : 26.0,Effectif Cumulé : 324, Fréquence : 0.004878048780487805, Fréquence Cumulée : 0.7902439024390244\n",
      "Modalité : 27.0,Effectif Cumulé : 330, Fréquence : 0.014634146341463415, Fréquence Cumulée : 0.8048780487804879\n",
      "Modalité : 27.5,Effectif Cumulé : 332, Fréquence : 0.004878048780487805, Fréquence Cumulée : 0.8097560975609757\n",
      "Modalité : 28.0,Effectif Cumulé : 340, Fréquence : 0.01951219512195122, Fréquence Cumulée : 0.8292682926829269\n",
      "Modalité : 28.5,Effectif Cumulé : 341, Fréquence : 0.0024390243902439024, Fréquence Cumulée : 0.8317073170731708\n",
      "Modalité : 29.5,Effectif Cumulé : 342, Fréquence : 0.0024390243902439024, Fréquence Cumulée : 0.8341463414634147\n",
      "Modalité : 30.0,Effectif Cumulé : 361, Fréquence : 0.046341463414634146, Fréquence Cumulée : 0.8804878048780489\n",
      "Modalité : 31.0,Effectif Cumulé : 364, Fréquence : 0.007317073170731708, Fréquence Cumulée : 0.8878048780487806\n",
      "Modalité : 32.0,Effectif Cumulé : 371, Fréquence : 0.01707317073170732, Fréquence Cumulée : 0.9048780487804879\n",
      "Modalité : 33.0,Effectif Cumulé : 375, Fréquence : 0.00975609756097561, Fréquence Cumulée : 0.9146341463414636\n",
      "Modalité : 34.0,Effectif Cumulé : 376, Fréquence : 0.0024390243902439024, Fréquence Cumulée : 0.9170731707317075\n",
      "Modalité : 35.0,Effectif Cumulé : 387, Fréquence : 0.026829268292682926, Fréquence Cumulée : 0.9439024390243904\n",
      "Modalité : 36.0,Effectif Cumulé : 391, Fréquence : 0.00975609756097561, Fréquence Cumulée : 0.953658536585366\n",
      "Modalité : 37.5,Effectif Cumulé : 392, Fréquence : 0.0024390243902439024, Fréquence Cumulée : 0.9560975609756099\n",
      "Modalité : 38.0,Effectif Cumulé : 393, Fréquence : 0.0024390243902439024, Fréquence Cumulée : 0.9585365853658538\n",
      "Modalité : 40.0,Effectif Cumulé : 401, Fréquence : 0.01951219512195122, Fréquence Cumulée : 0.9780487804878051\n",
      "Modalité : 42.0,Effectif Cumulé : 402, Fréquence : 0.0024390243902439024, Fréquence Cumulée : 0.980487804878049\n",
      "Modalité : 45.0,Effectif Cumulé : 404, Fréquence : 0.004878048780487805, Fréquence Cumulée : 0.9853658536585368\n",
      "Modalité : 46.0,Effectif Cumulé : 405, Fréquence : 0.0024390243902439024, Fréquence Cumulée : 0.9878048780487807\n",
      "Modalité : 50.0,Effectif Cumulé : 407, Fréquence : 0.004878048780487805, Fréquence Cumulée : 0.9926829268292685\n",
      "Modalité : 55.0,Effectif Cumulé : 408, Fréquence : 0.0024390243902439024, Fréquence Cumulée : 0.9951219512195124\n",
      "Modalité : 60.0,Effectif Cumulé : 410, Fréquence : 0.004878048780487805, Fréquence Cumulée : 1.0000000000000002\n"
     ]
    }
   ],
   "source": [
    "\"\"\"\n",
    "somme_effectifs = np.sum(counts)\n",
    "\n",
    "effectifs_cumules = 0\n",
    "frequence_cum = 0\n",
    "for value, count in zip(unique_values, counts):\n",
    "    effectifs_cumules += count\n",
    "    print(f\"{value} -> effectifs_cumule: {effectifs_cumules}\")\n",
    "    frequence = count/somme_effectifs\n",
    "    print(f\"{value} -> fréquence: {frequence}\")\n",
    "    frequence_cum += frequence\n",
    "    print(f\"{value} -> fréquence cumulée: {frequence_cum}\")\n",
    "\"\"\"\n",
    "\n",
    "## effectifs cumulés cumsum\n",
    "modalites, counts = np.unique(x, return_counts=True)\n",
    "\n",
    "# Calcul des effectifs cumulés\n",
    "effectifs_cumules = np.cumsum(counts)\n",
    "\n",
    "# Calcul des \n",
    "frequences = counts/len(x)\n",
    "\n",
    "# Calcul des fréquences cumulées\n",
    "frequences_cumulees = np.cumsum(counts/len(x))\n",
    "\n",
    "# Affichage des résultats\n",
    "for modalite, effectif_cumule, frequence, frequence_cumulee in zip(modalites, effectifs_cumules, frequences, frequences_cumulees):\n",
    "    print(f\"Modalité : {modalite},Effectif Cumulé : {effectif_cumule}, Fréquence : {frequence}, Fréquence Cumulée : {frequence_cumulee}\")"
   ]
  },
  {
   "cell_type": "markdown",
   "metadata": {},
   "source": [
    "9. Affichez les résultats de vos calculs dans un tableau présentant les modalités, leurs effectifs, effectifs cumulés, puis les fréquences et les fréquences cumulées."
   ]
  },
  {
   "cell_type": "code",
   "execution_count": 41,
   "metadata": {},
   "outputs": [
    {
     "data": {
      "text/html": [
       "<div>\n",
       "<style scoped>\n",
       "    .dataframe tbody tr th:only-of-type {\n",
       "        vertical-align: middle;\n",
       "    }\n",
       "\n",
       "    .dataframe tbody tr th {\n",
       "        vertical-align: top;\n",
       "    }\n",
       "\n",
       "    .dataframe thead th {\n",
       "        text-align: right;\n",
       "    }\n",
       "</style>\n",
       "<table border=\"1\" class=\"dataframe\">\n",
       "  <thead>\n",
       "    <tr style=\"text-align: right;\">\n",
       "      <th></th>\n",
       "      <th>Modalité</th>\n",
       "      <th>Effectif</th>\n",
       "      <th>Effectif Cumulé</th>\n",
       "      <th>Fréquence</th>\n",
       "      <th>Fréquence Cumulée</th>\n",
       "    </tr>\n",
       "  </thead>\n",
       "  <tbody>\n",
       "    <tr>\n",
       "      <th>0</th>\n",
       "      <td>0.0</td>\n",
       "      <td>5</td>\n",
       "      <td>5</td>\n",
       "      <td>0.012195</td>\n",
       "      <td>0.012195</td>\n",
       "    </tr>\n",
       "    <tr>\n",
       "      <th>1</th>\n",
       "      <td>2.0</td>\n",
       "      <td>2</td>\n",
       "      <td>7</td>\n",
       "      <td>0.004878</td>\n",
       "      <td>0.017073</td>\n",
       "    </tr>\n",
       "    <tr>\n",
       "      <th>2</th>\n",
       "      <td>3.0</td>\n",
       "      <td>2</td>\n",
       "      <td>9</td>\n",
       "      <td>0.004878</td>\n",
       "      <td>0.021951</td>\n",
       "    </tr>\n",
       "    <tr>\n",
       "      <th>3</th>\n",
       "      <td>4.0</td>\n",
       "      <td>9</td>\n",
       "      <td>18</td>\n",
       "      <td>0.021951</td>\n",
       "      <td>0.043902</td>\n",
       "    </tr>\n",
       "    <tr>\n",
       "      <th>4</th>\n",
       "      <td>5.0</td>\n",
       "      <td>2</td>\n",
       "      <td>20</td>\n",
       "      <td>0.004878</td>\n",
       "      <td>0.048780</td>\n",
       "    </tr>\n",
       "    <tr>\n",
       "      <th>5</th>\n",
       "      <td>6.0</td>\n",
       "      <td>11</td>\n",
       "      <td>31</td>\n",
       "      <td>0.026829</td>\n",
       "      <td>0.075610</td>\n",
       "    </tr>\n",
       "    <tr>\n",
       "      <th>6</th>\n",
       "      <td>6.5</td>\n",
       "      <td>4</td>\n",
       "      <td>35</td>\n",
       "      <td>0.009756</td>\n",
       "      <td>0.085366</td>\n",
       "    </tr>\n",
       "    <tr>\n",
       "      <th>7</th>\n",
       "      <td>7.0</td>\n",
       "      <td>10</td>\n",
       "      <td>45</td>\n",
       "      <td>0.024390</td>\n",
       "      <td>0.109756</td>\n",
       "    </tr>\n",
       "    <tr>\n",
       "      <th>8</th>\n",
       "      <td>7.5</td>\n",
       "      <td>1</td>\n",
       "      <td>46</td>\n",
       "      <td>0.002439</td>\n",
       "      <td>0.112195</td>\n",
       "    </tr>\n",
       "    <tr>\n",
       "      <th>9</th>\n",
       "      <td>8.0</td>\n",
       "      <td>9</td>\n",
       "      <td>55</td>\n",
       "      <td>0.021951</td>\n",
       "      <td>0.134146</td>\n",
       "    </tr>\n",
       "    <tr>\n",
       "      <th>10</th>\n",
       "      <td>8.5</td>\n",
       "      <td>1</td>\n",
       "      <td>56</td>\n",
       "      <td>0.002439</td>\n",
       "      <td>0.136585</td>\n",
       "    </tr>\n",
       "    <tr>\n",
       "      <th>11</th>\n",
       "      <td>9.0</td>\n",
       "      <td>11</td>\n",
       "      <td>67</td>\n",
       "      <td>0.026829</td>\n",
       "      <td>0.163415</td>\n",
       "    </tr>\n",
       "    <tr>\n",
       "      <th>12</th>\n",
       "      <td>10.0</td>\n",
       "      <td>34</td>\n",
       "      <td>101</td>\n",
       "      <td>0.082927</td>\n",
       "      <td>0.246341</td>\n",
       "    </tr>\n",
       "    <tr>\n",
       "      <th>13</th>\n",
       "      <td>10.5</td>\n",
       "      <td>2</td>\n",
       "      <td>103</td>\n",
       "      <td>0.004878</td>\n",
       "      <td>0.251220</td>\n",
       "    </tr>\n",
       "    <tr>\n",
       "      <th>14</th>\n",
       "      <td>11.0</td>\n",
       "      <td>6</td>\n",
       "      <td>109</td>\n",
       "      <td>0.014634</td>\n",
       "      <td>0.265854</td>\n",
       "    </tr>\n",
       "    <tr>\n",
       "      <th>15</th>\n",
       "      <td>11.5</td>\n",
       "      <td>1</td>\n",
       "      <td>110</td>\n",
       "      <td>0.002439</td>\n",
       "      <td>0.268293</td>\n",
       "    </tr>\n",
       "    <tr>\n",
       "      <th>16</th>\n",
       "      <td>12.0</td>\n",
       "      <td>20</td>\n",
       "      <td>130</td>\n",
       "      <td>0.048780</td>\n",
       "      <td>0.317073</td>\n",
       "    </tr>\n",
       "    <tr>\n",
       "      <th>17</th>\n",
       "      <td>12.5</td>\n",
       "      <td>1</td>\n",
       "      <td>131</td>\n",
       "      <td>0.002439</td>\n",
       "      <td>0.319512</td>\n",
       "    </tr>\n",
       "    <tr>\n",
       "      <th>18</th>\n",
       "      <td>13.0</td>\n",
       "      <td>13</td>\n",
       "      <td>144</td>\n",
       "      <td>0.031707</td>\n",
       "      <td>0.351220</td>\n",
       "    </tr>\n",
       "    <tr>\n",
       "      <th>19</th>\n",
       "      <td>14.0</td>\n",
       "      <td>9</td>\n",
       "      <td>153</td>\n",
       "      <td>0.021951</td>\n",
       "      <td>0.373171</td>\n",
       "    </tr>\n",
       "    <tr>\n",
       "      <th>20</th>\n",
       "      <td>14.5</td>\n",
       "      <td>2</td>\n",
       "      <td>155</td>\n",
       "      <td>0.004878</td>\n",
       "      <td>0.378049</td>\n",
       "    </tr>\n",
       "    <tr>\n",
       "      <th>21</th>\n",
       "      <td>15.0</td>\n",
       "      <td>38</td>\n",
       "      <td>193</td>\n",
       "      <td>0.092683</td>\n",
       "      <td>0.470732</td>\n",
       "    </tr>\n",
       "    <tr>\n",
       "      <th>22</th>\n",
       "      <td>16.0</td>\n",
       "      <td>10</td>\n",
       "      <td>203</td>\n",
       "      <td>0.024390</td>\n",
       "      <td>0.495122</td>\n",
       "    </tr>\n",
       "    <tr>\n",
       "      <th>23</th>\n",
       "      <td>16.5</td>\n",
       "      <td>1</td>\n",
       "      <td>204</td>\n",
       "      <td>0.002439</td>\n",
       "      <td>0.497561</td>\n",
       "    </tr>\n",
       "    <tr>\n",
       "      <th>24</th>\n",
       "      <td>17.0</td>\n",
       "      <td>7</td>\n",
       "      <td>211</td>\n",
       "      <td>0.017073</td>\n",
       "      <td>0.514634</td>\n",
       "    </tr>\n",
       "    <tr>\n",
       "      <th>25</th>\n",
       "      <td>17.5</td>\n",
       "      <td>4</td>\n",
       "      <td>215</td>\n",
       "      <td>0.009756</td>\n",
       "      <td>0.524390</td>\n",
       "    </tr>\n",
       "    <tr>\n",
       "      <th>26</th>\n",
       "      <td>18.0</td>\n",
       "      <td>7</td>\n",
       "      <td>222</td>\n",
       "      <td>0.017073</td>\n",
       "      <td>0.541463</td>\n",
       "    </tr>\n",
       "    <tr>\n",
       "      <th>27</th>\n",
       "      <td>19.0</td>\n",
       "      <td>7</td>\n",
       "      <td>229</td>\n",
       "      <td>0.017073</td>\n",
       "      <td>0.558537</td>\n",
       "    </tr>\n",
       "    <tr>\n",
       "      <th>28</th>\n",
       "      <td>20.0</td>\n",
       "      <td>45</td>\n",
       "      <td>274</td>\n",
       "      <td>0.109756</td>\n",
       "      <td>0.668293</td>\n",
       "    </tr>\n",
       "    <tr>\n",
       "      <th>29</th>\n",
       "      <td>20.5</td>\n",
       "      <td>1</td>\n",
       "      <td>275</td>\n",
       "      <td>0.002439</td>\n",
       "      <td>0.670732</td>\n",
       "    </tr>\n",
       "    <tr>\n",
       "      <th>30</th>\n",
       "      <td>21.0</td>\n",
       "      <td>2</td>\n",
       "      <td>277</td>\n",
       "      <td>0.004878</td>\n",
       "      <td>0.675610</td>\n",
       "    </tr>\n",
       "    <tr>\n",
       "      <th>31</th>\n",
       "      <td>22.0</td>\n",
       "      <td>7</td>\n",
       "      <td>284</td>\n",
       "      <td>0.017073</td>\n",
       "      <td>0.692683</td>\n",
       "    </tr>\n",
       "    <tr>\n",
       "      <th>32</th>\n",
       "      <td>22.5</td>\n",
       "      <td>3</td>\n",
       "      <td>287</td>\n",
       "      <td>0.007317</td>\n",
       "      <td>0.700000</td>\n",
       "    </tr>\n",
       "    <tr>\n",
       "      <th>33</th>\n",
       "      <td>23.0</td>\n",
       "      <td>3</td>\n",
       "      <td>290</td>\n",
       "      <td>0.007317</td>\n",
       "      <td>0.707317</td>\n",
       "    </tr>\n",
       "    <tr>\n",
       "      <th>34</th>\n",
       "      <td>23.5</td>\n",
       "      <td>1</td>\n",
       "      <td>291</td>\n",
       "      <td>0.002439</td>\n",
       "      <td>0.709756</td>\n",
       "    </tr>\n",
       "    <tr>\n",
       "      <th>35</th>\n",
       "      <td>24.0</td>\n",
       "      <td>3</td>\n",
       "      <td>294</td>\n",
       "      <td>0.007317</td>\n",
       "      <td>0.717073</td>\n",
       "    </tr>\n",
       "    <tr>\n",
       "      <th>36</th>\n",
       "      <td>25.0</td>\n",
       "      <td>26</td>\n",
       "      <td>320</td>\n",
       "      <td>0.063415</td>\n",
       "      <td>0.780488</td>\n",
       "    </tr>\n",
       "    <tr>\n",
       "      <th>37</th>\n",
       "      <td>25.5</td>\n",
       "      <td>2</td>\n",
       "      <td>322</td>\n",
       "      <td>0.004878</td>\n",
       "      <td>0.785366</td>\n",
       "    </tr>\n",
       "    <tr>\n",
       "      <th>38</th>\n",
       "      <td>26.0</td>\n",
       "      <td>2</td>\n",
       "      <td>324</td>\n",
       "      <td>0.004878</td>\n",
       "      <td>0.790244</td>\n",
       "    </tr>\n",
       "    <tr>\n",
       "      <th>39</th>\n",
       "      <td>27.0</td>\n",
       "      <td>6</td>\n",
       "      <td>330</td>\n",
       "      <td>0.014634</td>\n",
       "      <td>0.804878</td>\n",
       "    </tr>\n",
       "    <tr>\n",
       "      <th>40</th>\n",
       "      <td>27.5</td>\n",
       "      <td>2</td>\n",
       "      <td>332</td>\n",
       "      <td>0.004878</td>\n",
       "      <td>0.809756</td>\n",
       "    </tr>\n",
       "    <tr>\n",
       "      <th>41</th>\n",
       "      <td>28.0</td>\n",
       "      <td>8</td>\n",
       "      <td>340</td>\n",
       "      <td>0.019512</td>\n",
       "      <td>0.829268</td>\n",
       "    </tr>\n",
       "    <tr>\n",
       "      <th>42</th>\n",
       "      <td>28.5</td>\n",
       "      <td>1</td>\n",
       "      <td>341</td>\n",
       "      <td>0.002439</td>\n",
       "      <td>0.831707</td>\n",
       "    </tr>\n",
       "    <tr>\n",
       "      <th>43</th>\n",
       "      <td>29.5</td>\n",
       "      <td>1</td>\n",
       "      <td>342</td>\n",
       "      <td>0.002439</td>\n",
       "      <td>0.834146</td>\n",
       "    </tr>\n",
       "    <tr>\n",
       "      <th>44</th>\n",
       "      <td>30.0</td>\n",
       "      <td>19</td>\n",
       "      <td>361</td>\n",
       "      <td>0.046341</td>\n",
       "      <td>0.880488</td>\n",
       "    </tr>\n",
       "    <tr>\n",
       "      <th>45</th>\n",
       "      <td>31.0</td>\n",
       "      <td>3</td>\n",
       "      <td>364</td>\n",
       "      <td>0.007317</td>\n",
       "      <td>0.887805</td>\n",
       "    </tr>\n",
       "    <tr>\n",
       "      <th>46</th>\n",
       "      <td>32.0</td>\n",
       "      <td>7</td>\n",
       "      <td>371</td>\n",
       "      <td>0.017073</td>\n",
       "      <td>0.904878</td>\n",
       "    </tr>\n",
       "    <tr>\n",
       "      <th>47</th>\n",
       "      <td>33.0</td>\n",
       "      <td>4</td>\n",
       "      <td>375</td>\n",
       "      <td>0.009756</td>\n",
       "      <td>0.914634</td>\n",
       "    </tr>\n",
       "    <tr>\n",
       "      <th>48</th>\n",
       "      <td>34.0</td>\n",
       "      <td>1</td>\n",
       "      <td>376</td>\n",
       "      <td>0.002439</td>\n",
       "      <td>0.917073</td>\n",
       "    </tr>\n",
       "    <tr>\n",
       "      <th>49</th>\n",
       "      <td>35.0</td>\n",
       "      <td>11</td>\n",
       "      <td>387</td>\n",
       "      <td>0.026829</td>\n",
       "      <td>0.943902</td>\n",
       "    </tr>\n",
       "    <tr>\n",
       "      <th>50</th>\n",
       "      <td>36.0</td>\n",
       "      <td>4</td>\n",
       "      <td>391</td>\n",
       "      <td>0.009756</td>\n",
       "      <td>0.953659</td>\n",
       "    </tr>\n",
       "    <tr>\n",
       "      <th>51</th>\n",
       "      <td>37.5</td>\n",
       "      <td>1</td>\n",
       "      <td>392</td>\n",
       "      <td>0.002439</td>\n",
       "      <td>0.956098</td>\n",
       "    </tr>\n",
       "    <tr>\n",
       "      <th>52</th>\n",
       "      <td>38.0</td>\n",
       "      <td>1</td>\n",
       "      <td>393</td>\n",
       "      <td>0.002439</td>\n",
       "      <td>0.958537</td>\n",
       "    </tr>\n",
       "    <tr>\n",
       "      <th>53</th>\n",
       "      <td>40.0</td>\n",
       "      <td>8</td>\n",
       "      <td>401</td>\n",
       "      <td>0.019512</td>\n",
       "      <td>0.978049</td>\n",
       "    </tr>\n",
       "    <tr>\n",
       "      <th>54</th>\n",
       "      <td>42.0</td>\n",
       "      <td>1</td>\n",
       "      <td>402</td>\n",
       "      <td>0.002439</td>\n",
       "      <td>0.980488</td>\n",
       "    </tr>\n",
       "    <tr>\n",
       "      <th>55</th>\n",
       "      <td>45.0</td>\n",
       "      <td>2</td>\n",
       "      <td>404</td>\n",
       "      <td>0.004878</td>\n",
       "      <td>0.985366</td>\n",
       "    </tr>\n",
       "    <tr>\n",
       "      <th>56</th>\n",
       "      <td>46.0</td>\n",
       "      <td>1</td>\n",
       "      <td>405</td>\n",
       "      <td>0.002439</td>\n",
       "      <td>0.987805</td>\n",
       "    </tr>\n",
       "    <tr>\n",
       "      <th>57</th>\n",
       "      <td>50.0</td>\n",
       "      <td>2</td>\n",
       "      <td>407</td>\n",
       "      <td>0.004878</td>\n",
       "      <td>0.992683</td>\n",
       "    </tr>\n",
       "    <tr>\n",
       "      <th>58</th>\n",
       "      <td>55.0</td>\n",
       "      <td>1</td>\n",
       "      <td>408</td>\n",
       "      <td>0.002439</td>\n",
       "      <td>0.995122</td>\n",
       "    </tr>\n",
       "    <tr>\n",
       "      <th>59</th>\n",
       "      <td>60.0</td>\n",
       "      <td>2</td>\n",
       "      <td>410</td>\n",
       "      <td>0.004878</td>\n",
       "      <td>1.000000</td>\n",
       "    </tr>\n",
       "  </tbody>\n",
       "</table>\n",
       "</div>"
      ],
      "text/plain": [
       "    Modalité  Effectif  Effectif Cumulé  Fréquence  Fréquence Cumulée\n",
       "0        0.0         5                5   0.012195           0.012195\n",
       "1        2.0         2                7   0.004878           0.017073\n",
       "2        3.0         2                9   0.004878           0.021951\n",
       "3        4.0         9               18   0.021951           0.043902\n",
       "4        5.0         2               20   0.004878           0.048780\n",
       "5        6.0        11               31   0.026829           0.075610\n",
       "6        6.5         4               35   0.009756           0.085366\n",
       "7        7.0        10               45   0.024390           0.109756\n",
       "8        7.5         1               46   0.002439           0.112195\n",
       "9        8.0         9               55   0.021951           0.134146\n",
       "10       8.5         1               56   0.002439           0.136585\n",
       "11       9.0        11               67   0.026829           0.163415\n",
       "12      10.0        34              101   0.082927           0.246341\n",
       "13      10.5         2              103   0.004878           0.251220\n",
       "14      11.0         6              109   0.014634           0.265854\n",
       "15      11.5         1              110   0.002439           0.268293\n",
       "16      12.0        20              130   0.048780           0.317073\n",
       "17      12.5         1              131   0.002439           0.319512\n",
       "18      13.0        13              144   0.031707           0.351220\n",
       "19      14.0         9              153   0.021951           0.373171\n",
       "20      14.5         2              155   0.004878           0.378049\n",
       "21      15.0        38              193   0.092683           0.470732\n",
       "22      16.0        10              203   0.024390           0.495122\n",
       "23      16.5         1              204   0.002439           0.497561\n",
       "24      17.0         7              211   0.017073           0.514634\n",
       "25      17.5         4              215   0.009756           0.524390\n",
       "26      18.0         7              222   0.017073           0.541463\n",
       "27      19.0         7              229   0.017073           0.558537\n",
       "28      20.0        45              274   0.109756           0.668293\n",
       "29      20.5         1              275   0.002439           0.670732\n",
       "30      21.0         2              277   0.004878           0.675610\n",
       "31      22.0         7              284   0.017073           0.692683\n",
       "32      22.5         3              287   0.007317           0.700000\n",
       "33      23.0         3              290   0.007317           0.707317\n",
       "34      23.5         1              291   0.002439           0.709756\n",
       "35      24.0         3              294   0.007317           0.717073\n",
       "36      25.0        26              320   0.063415           0.780488\n",
       "37      25.5         2              322   0.004878           0.785366\n",
       "38      26.0         2              324   0.004878           0.790244\n",
       "39      27.0         6              330   0.014634           0.804878\n",
       "40      27.5         2              332   0.004878           0.809756\n",
       "41      28.0         8              340   0.019512           0.829268\n",
       "42      28.5         1              341   0.002439           0.831707\n",
       "43      29.5         1              342   0.002439           0.834146\n",
       "44      30.0        19              361   0.046341           0.880488\n",
       "45      31.0         3              364   0.007317           0.887805\n",
       "46      32.0         7              371   0.017073           0.904878\n",
       "47      33.0         4              375   0.009756           0.914634\n",
       "48      34.0         1              376   0.002439           0.917073\n",
       "49      35.0        11              387   0.026829           0.943902\n",
       "50      36.0         4              391   0.009756           0.953659\n",
       "51      37.5         1              392   0.002439           0.956098\n",
       "52      38.0         1              393   0.002439           0.958537\n",
       "53      40.0         8              401   0.019512           0.978049\n",
       "54      42.0         1              402   0.002439           0.980488\n",
       "55      45.0         2              404   0.004878           0.985366\n",
       "56      46.0         1              405   0.002439           0.987805\n",
       "57      50.0         2              407   0.004878           0.992683\n",
       "58      55.0         1              408   0.002439           0.995122\n",
       "59      60.0         2              410   0.004878           1.000000"
      ]
     },
     "metadata": {},
     "output_type": "display_data"
    }
   ],
   "source": [
    "import pandas as pd\n",
    "data = {\n",
    "    'Modalité': unique_values,\n",
    "    'Effectif': counts,\n",
    "    'Effectif Cumulé': effectifs_cumules,\n",
    "    'Fréquence': frequences,\n",
    "    'Fréquence Cumulée': frequences_cumulees\n",
    "}\n",
    "\n",
    "df = pd.DataFrame(data)\n",
    "\n",
    "display(df)"
   ]
  },
  {
   "cell_type": "markdown",
   "metadata": {},
   "source": [
    "10. Affichez la fonction de répartition empirique de la variable x."
   ]
  },
  {
   "cell_type": "code",
   "execution_count": 43,
   "metadata": {},
   "outputs": [
    {
     "data": {
      "image/png": "[encoded data removed]",
      "text/plain": [
       "<Figure size 432x288 with 1 Axes>"
      ]
     },
     "metadata": {
      "needs_background": "light"
     },
     "output_type": "display_data"
    }
   ],
   "source": [
    "## CDF répartition empirique\n",
    "plt.step(unique_values, frequences_cumulees)\n",
    "plt.title('Fonction de Répartition Empirique')\n",
    "plt.xlabel('Valeurs de la Variable')\n",
    "plt.ylabel('Fréquence Cumulée')\n",
    "plt.show()"
   ]
  },
  {
   "cell_type": "markdown",
   "metadata": {},
   "source": [
    "11. Calculez la médiane de deux manières différentes : \n",
    " - En utilisant la fonction NumPy et  \n",
    " - Graphiquement en utilisant la fonction de répartition empirique que vous venez de dessiner.\n",
    " \n",
    " Pourquoi les résultats sont différents ? Quelle approche vous semble la plus fiable et pourquoi ?"
   ]
  },
  {
   "cell_type": "code",
   "execution_count": 46,
   "metadata": {},
   "outputs": [
    {
     "name": "stdout",
     "output_type": "stream",
     "text": [
      "median =  17.0\n"
     ]
    },
    {
     "data": {
      "image/png": "[encoded data removed]",
      "text/plain": [
       "<Figure size 432x288 with 1 Axes>"
      ]
     },
     "metadata": {
      "needs_background": "light"
     },
     "output_type": "display_data"
    },
    {
     "data": {
      "text/plain": [
       "\"\\nPourquoi les résultats peuvent différer :\\n- Les résultats peuvent différer en raison d'approximations numériques\\n  dans le calcul de la médiane à partir de la fonction de répartition empirique,\\n  en particulier si les données ne sont pas discrètes et si les valeurs\\n  sont approximatives.\\n- Les résultats peuvent également différer légèrement en raison de la manière\\n  dont la fonction de répartition empirique est calculée et l'interpolation entre\\n  les valeurs observées.\\n  \\nQuelle approche est plus fiable :\\n- En général, la méthode NumPy est plus précise car elle utilise des algorithmes \\n  numériques robustes pour calculer la médiane.\\n- La méthode graphique à partir de la fonction de répartition empirique est\\n  plus sujette à des approximations, en particulier si les données \\n  ne sont pas abondantes et que la fonction de répartition \\n  empirique est basée sur un petit nombre d'observations.\""
      ]
     },
     "execution_count": 46,
     "metadata": {},
     "output_type": "execute_result"
    }
   ],
   "source": [
    "## NumPy\n",
    "## La médiane est la valeur du milieu lorsque les données sont triées par ordre\n",
    "## croissant ou décroissant.\n",
    "x_median = np.median(x)\n",
    "print(\"median = \", x_median)\n",
    "\n",
    "## Graphiquement\n",
    "plt.step(unique_values, frequences_cumulees)\n",
    "plt.title('Fonction de Répartition Empirique')\n",
    "plt.xlabel('Valeurs de la Variable')\n",
    "plt.ylabel('Fréquence Cumulée')\n",
    "\n",
    "# Find the median\n",
    "median_index = np.argmax(frequences_cumulees >= 0.5)\n",
    "median = unique_values[median_index]\n",
    "\n",
    "# Add a vertical line at the median\n",
    "plt.axvline(x=median, color='r', linestyle='--', label=f'Médiane: {median}')\n",
    "plt.legend()\n",
    "plt.show()\n",
    "\n",
    "\"\"\"\n",
    "Pourquoi les résultats peuvent différer :\n",
    "- Les résultats peuvent différer en raison d'approximations numériques\n",
    "  dans le calcul de la médiane à partir de la fonction de répartition empirique,\n",
    "  en particulier si les données ne sont pas discrètes et si les valeurs\n",
    "  sont approximatives.\n",
    "- Les résultats peuvent également différer légèrement en raison de la manière\n",
    "  dont la fonction de répartition empirique est calculée et l'interpolation entre\n",
    "  les valeurs observées.\n",
    "  \n",
    "Quelle approche est plus fiable :\n",
    "- En général, la méthode NumPy est plus précise car elle utilise des algorithmes \n",
    "  numériques robustes pour calculer la médiane.\n",
    "- La méthode graphique à partir de la fonction de répartition empirique est\n",
    "  plus sujette à des approximations, en particulier si les données \n",
    "  ne sont pas abondantes et que la fonction de répartition \n",
    "  empirique est basée sur un petit nombre d'observations.\"\"\""
   ]
  },
  {
   "cell_type": "markdown",
   "metadata": {},
   "source": [
    "**Version 2** : Numpy utilise la definition vu en cours, cf la doc (https://numpy.org/doc/stable/reference/generated/numpy.median.html). Par contre, en lisant dans le graphique, ou le tableau, on peut estimer entre 16,5 et 17 la valeur qui dépasse 0.5. Mais attention, c'est une estimation interpolée sur les données. La définition de la médiane est prise dans l'échantillon."
   ]
  },
  {
   "cell_type": "markdown",
   "metadata": {},
   "source": [
    "12. Visualisez les fréquences observées de trois manières différentes. A l’aide d’un histogramme standard à 10 bins, un histogramme détaillé à 50 bins, et en affichant les effectifs pour chacune des modalités. La quelle de ces trois vue vous parait la plus intéressante ?"
   ]
  },
  {
   "cell_type": "code",
   "execution_count": 68,
   "metadata": {},
   "outputs": [
    {
     "data": {
      "image/png": "[encoded data removed]",
      "text/plain": [
       "<Figure size 432x288 with 1 Axes>"
      ]
     },
     "metadata": {
      "needs_background": "light"
     },
     "output_type": "display_data"
    },
    {
     "data": {
      "image/png": "[encoded data removed]",
      "text/plain": [
       "<Figure size 432x288 with 1 Axes>"
      ]
     },
     "metadata": {
      "needs_background": "light"
     },
     "output_type": "display_data"
    },
    {
     "data": {
      "image/png": "[encoded data removed]",
      "text/plain": [
       "<Figure size 432x288 with 1 Axes>"
      ]
     },
     "metadata": {
      "needs_background": "light"
     },
     "output_type": "display_data"
    }
   ],
   "source": [
    "## Visualisez les fréquences histogramme standard à 10 bins\n",
    "\n",
    "plt.hist(x, bins=10, rwidth=0.8)  \n",
    "plt.xlabel('Modalites')\n",
    "plt.ylabel('Nombres')\n",
    "plt.title(\"Histogramme simple 10 bins\")\n",
    "plt.show()\n",
    "\n",
    "## Visualisez les fréquences histogramme standard à 50 bins\n",
    "plt.hist(x, bins=50, rwidth=0.8)  \n",
    "plt.xlabel('Modalites')\n",
    "plt.ylabel('Nombres')\n",
    "plt.title(\"Histogramme simple 50 bins\")\n",
    "plt.show()\n",
    "\n",
    "# Affichage des effectifs pour chacune des modalités\n",
    "plt.bar(modalites, frequences,width=0.8)\n",
    "plt.title('Effectifs pour Chacune des Modalités')\n",
    "plt.xlabel('Modalités')\n",
    "plt.ylabel('Effectifs')\n",
    "plt.show()"
   ]
  },
  {
   "cell_type": "markdown",
   "metadata": {},
   "source": [
    "## Questions bonus\n",
    "Ces questions pourront être faites après le prochain exercice."
   ]
  },
  {
   "cell_type": "markdown",
   "metadata": {},
   "source": [
    "14\\. Quelle est la nature des 15 premières variables ?"
   ]
  },
  {
   "cell_type": "markdown",
   "metadata": {},
   "source": [
    "15\\. Les données sur lesquelles vous avez travaillé sont expliquées à cette adresse : https://github.com/michaelaoash/git-econ753/blob/master/lab-07-minimum-wage/ucla/fastfood-explanation.html. Il s’agit d’informations sur 410 restaurants choisis au hasard dans le New Jersey et la Pennsylvanie orientale. Pour chaque restaurant nous disposons de 46 variables. Environ la moitié se rapportent à une période avant une augmentation du salaire minimum et l’autre moitié concernent la période postérieure. Les données ci-joints ont été utilisés pour étudier les effets de l’augmentation du salaire minimum sur le chômage.\n",
    "\n",
    "La douzième variable donne le nombre d’employés (à plein temps) du restaurant."
   ]
  },
  {
   "cell_type": "markdown",
   "metadata": {},
   "source": [
    "16\\. Refaites la même étude avec le montant habituel de la première augmentation (en \\$ par heure)."
   ]
  },
  {
   "cell_type": "markdown",
   "metadata": {},
   "source": [
    "## Correction d'examen\n",
    "Un professeur souhaite étudier statistiquement les notes sur 10 obtenues par ses élèves à un examen. Les résultats sont donnés dans le tableau ci-dessous.\n",
    "\n",
    "\n",
    "| Nom | Note | \n",
    "| --- | --- |\n",
    "| mike | 6 |\n",
    "| bob | 5 |\n",
    "| evan | 9 |\n",
    "| ruppert | 3 |\n",
    "| aaron | 3 |\n",
    "| steve | 1 |\n",
    "| zachariy | 9 |\n",
    "| logan | 6 |\n",
    "| roger | 5 |\n",
    "| don | 6 |\n",
    "| bill | 5 |\n",
    "| ron | 6 |\n",
    "| karl | 5 |\n",
    "| stefen | 7 |\n",
    "| tom | 5 |\n",
    "| neil | 10 |\n",
    "| john | 2 |\n",
    "| george | 1 |\n",
    "| dave | 1 |\n",
    "| tim | 1 |\n"
   ]
  },
  {
   "cell_type": "markdown",
   "metadata": {},
   "source": [
    "1. Quel est le domaine de la variable ?\n",
    "2. Quelles sont les différentes modalités observées ? \n",
    "3. Quelle la nature de la variable ?"
   ]
  },
  {
   "cell_type": "code",
   "execution_count": null,
   "metadata": {},
   "outputs": [],
   "source": [
    "Le domaine de la variable : [1...10]\n",
    "Les différentes modalités observées : 6,5,9,3,1,5,7,10,2,1\n",
    "La nature de la variable : Quantitative Discrete"
   ]
  },
  {
   "cell_type": "markdown",
   "metadata": {},
   "source": [
    "la variable est quantitative discrete"
   ]
  },
  {
   "cell_type": "markdown",
   "metadata": {},
   "source": [
    "2. Le code suivant calcule les effectifs $n_i$ et les effectifs cumulés $N_i$ de chaque modalité. Calculez les effectifs cumulés d'une autre manière et vérifier que vous obtenez les mêmes résultats"
   ]
  },
  {
   "cell_type": "code",
   "execution_count": 21,
   "metadata": {
    "tags": []
   },
   "outputs": [
    {
     "name": "stdout",
     "output_type": "stream",
     "text": [
      "[ 4.  5.  7. 12. 16. 17. 19. 20.]\n"
     ]
    }
   ],
   "source": [
    "x = np.array([6, 5, 9, 3, 3, 1, 9, 6, 5, 6, 5, 6, 5, 7, 5, 10, 2, 1, 1, 1])\n",
    "Mi, ni = np.unique(x, return_counts=True)\n",
    "Ni = np.zeros(ni.shape)\n",
    "Ni[0] = ni[0]\n",
    "for i in range(0, len(Ni) - 1):    \n",
    "    Ni[i+1] = Ni[i] + ni[i+1]\n",
    "print(Ni)"
   ]
  },
  {
   "cell_type": "code",
   "execution_count": 7,
   "metadata": {},
   "outputs": [
    {
     "name": "stdout",
     "output_type": "stream",
     "text": [
      "[ 4  5  7 12 16 17 19 20]\n"
     ]
    }
   ],
   "source": [
    "## autre maniere\n",
    "NNi = np.cumsum(ni)\n",
    "print(NNi)"
   ]
  },
  {
   "cell_type": "markdown",
   "metadata": {},
   "source": [
    "3. Calculez les effectifs par modalité, les fréquences et les fréquences cumulées des notes et affichez-les"
   ]
  },
  {
   "cell_type": "code",
   "execution_count": 8,
   "metadata": {},
   "outputs": [
    {
     "data": {
      "text/html": [
       "<div>\n",
       "<style scoped>\n",
       "    .dataframe tbody tr th:only-of-type {\n",
       "        vertical-align: middle;\n",
       "    }\n",
       "\n",
       "    .dataframe tbody tr th {\n",
       "        vertical-align: top;\n",
       "    }\n",
       "\n",
       "    .dataframe thead th {\n",
       "        text-align: right;\n",
       "    }\n",
       "</style>\n",
       "<table border=\"1\" class=\"dataframe\">\n",
       "  <thead>\n",
       "    <tr style=\"text-align: right;\">\n",
       "      <th></th>\n",
       "      <th>Modalité</th>\n",
       "      <th>Effectif</th>\n",
       "      <th>Effectif Cumulé</th>\n",
       "      <th>Fréquence</th>\n",
       "      <th>Fréquence Cumulée</th>\n",
       "    </tr>\n",
       "  </thead>\n",
       "  <tbody>\n",
       "    <tr>\n",
       "      <th>0</th>\n",
       "      <td>1</td>\n",
       "      <td>4</td>\n",
       "      <td>4</td>\n",
       "      <td>0.20</td>\n",
       "      <td>0.20</td>\n",
       "    </tr>\n",
       "    <tr>\n",
       "      <th>1</th>\n",
       "      <td>2</td>\n",
       "      <td>1</td>\n",
       "      <td>5</td>\n",
       "      <td>0.05</td>\n",
       "      <td>0.25</td>\n",
       "    </tr>\n",
       "    <tr>\n",
       "      <th>2</th>\n",
       "      <td>3</td>\n",
       "      <td>2</td>\n",
       "      <td>7</td>\n",
       "      <td>0.10</td>\n",
       "      <td>0.35</td>\n",
       "    </tr>\n",
       "    <tr>\n",
       "      <th>3</th>\n",
       "      <td>5</td>\n",
       "      <td>5</td>\n",
       "      <td>12</td>\n",
       "      <td>0.25</td>\n",
       "      <td>0.60</td>\n",
       "    </tr>\n",
       "    <tr>\n",
       "      <th>4</th>\n",
       "      <td>6</td>\n",
       "      <td>4</td>\n",
       "      <td>16</td>\n",
       "      <td>0.20</td>\n",
       "      <td>0.80</td>\n",
       "    </tr>\n",
       "    <tr>\n",
       "      <th>5</th>\n",
       "      <td>7</td>\n",
       "      <td>1</td>\n",
       "      <td>17</td>\n",
       "      <td>0.05</td>\n",
       "      <td>0.85</td>\n",
       "    </tr>\n",
       "    <tr>\n",
       "      <th>6</th>\n",
       "      <td>9</td>\n",
       "      <td>2</td>\n",
       "      <td>19</td>\n",
       "      <td>0.10</td>\n",
       "      <td>0.95</td>\n",
       "    </tr>\n",
       "    <tr>\n",
       "      <th>7</th>\n",
       "      <td>10</td>\n",
       "      <td>1</td>\n",
       "      <td>20</td>\n",
       "      <td>0.05</td>\n",
       "      <td>1.00</td>\n",
       "    </tr>\n",
       "  </tbody>\n",
       "</table>\n",
       "</div>"
      ],
      "text/plain": [
       "   Modalité  Effectif  Effectif Cumulé  Fréquence  Fréquence Cumulée\n",
       "0         1         4                4       0.20               0.20\n",
       "1         2         1                5       0.05               0.25\n",
       "2         3         2                7       0.10               0.35\n",
       "3         5         5               12       0.25               0.60\n",
       "4         6         4               16       0.20               0.80\n",
       "5         7         1               17       0.05               0.85\n",
       "6         9         2               19       0.10               0.95\n",
       "7        10         1               20       0.05               1.00"
      ]
     },
     "metadata": {},
     "output_type": "display_data"
    }
   ],
   "source": [
    "# Calcul des effectifs\n",
    "effectifs_par_mod = ni\n",
    "\n",
    "# Calcul des effectifs cumulés\n",
    "effectifs_cumules = np.cumsum(ni)\n",
    "\n",
    "# Calcul des fréquences\n",
    "frequences = ni/len(x)\n",
    "\n",
    "# Calcul des fréquences cumulées\n",
    "frequences_cumulees = np.cumsum(ni/len(x))\n",
    "\n",
    "import pandas as pd\n",
    "\n",
    "data = {\n",
    "    'Modalité': Mi,\n",
    "    'Effectif': ni,\n",
    "    'Effectif Cumulé': effectifs_cumules,\n",
    "    'Fréquence': frequences,\n",
    "    'Fréquence Cumulée': frequences_cumulees\n",
    "}\n",
    "\n",
    "df = pd.DataFrame(data)\n",
    "\n",
    "display(df)"
   ]
  },
  {
   "cell_type": "markdown",
   "metadata": {},
   "source": [
    "4. Tracez la fonction de répartition empirique des notes."
   ]
  },
  {
   "cell_type": "code",
   "execution_count": 9,
   "metadata": {},
   "outputs": [
    {
     "data": {
      "image/png": "[encoded data removed]",
      "text/plain": [
       "<Figure size 432x288 with 1 Axes>"
      ]
     },
     "metadata": {
      "needs_background": "light"
     },
     "output_type": "display_data"
    }
   ],
   "source": [
    "plt.step(Mi, frequences_cumulees)\n",
    "plt.title('Fonction de Répartition Empirique')\n",
    "plt.xlabel('Valeurs de la Variable')\n",
    "plt.ylabel('Fréquence Cumulée')\n",
    "plt.show()"
   ]
  },
  {
   "cell_type": "markdown",
   "metadata": {},
   "source": [
    "5. Déterminez la médiane et les quartiles des notes"
   ]
  },
  {
   "cell_type": "code",
   "execution_count": 11,
   "metadata": {},
   "outputs": [
    {
     "name": "stdout",
     "output_type": "stream",
     "text": [
      "Médiane : 5.0\n",
      "Premier quartile (Q1) : 2.75\n",
      "Troisième quartile (Q3) : 6.0\n",
      "Median: 5.0\n"
     ]
    }
   ],
   "source": [
    "x_median = np.median(x)\n",
    "q1 = np.percentile(x, 25)\n",
    "q3 = np.percentile(x, 75)\n",
    "\n",
    "print(\"Médiane :\", x_median)\n",
    "print(\"Premier quartile (Q1) :\", q1)\n",
    "print(\"Troisième quartile (Q3) :\", q3)\n",
    "\n",
    "## calcule median\n",
    "x_sorted = np.sort(x)\n",
    "\n",
    "if len(x) % 2 == 0:\n",
    "    med = (x_sorted[len(x)//2 - 1] + x_sorted[len(x)//2]) / 2  # For even length\n",
    "else:\n",
    "    med = x_sorted[(len(x) - 1)//2]  # For odd length\n",
    "    \n",
    "print(\"Median:\", med)"
   ]
  },
  {
   "cell_type": "markdown",
   "metadata": {},
   "source": [
    "6. En déduire le DIQ"
   ]
  },
  {
   "cell_type": "code",
   "execution_count": null,
   "metadata": {},
   "outputs": [],
   "source": [
    "## mode\n",
    "## The mode of a dataset is the value or values that appear most frequently.\n",
    "## In other words, it represents the data point(s) with the highest frequency. "
   ]
  },
  {
   "cell_type": "code",
   "execution_count": 17,
   "metadata": {},
   "outputs": [
    {
     "name": "stdout",
     "output_type": "stream",
     "text": [
      "Q3: 6\n",
      "DIQ =  3.25\n"
     ]
    }
   ],
   "source": [
    "##Le DIQ (Écart interquartile) est la différence \n",
    "##entre le troisième quartile (Q3) et le premier quartile (Q1)\n",
    "##Médiane (Q2)\n",
    "##Q1\n",
    "\n",
    "\n",
    "##Q3\n",
    "\n",
    "#Identify the position of Q3.\n",
    "#For odd-length datasets: Q3 is at position (3n+1)/4\n",
    "#For even-length datasets: Q3 is at position (3n/4)+1\n",
    "\n",
    "#If the position is an integer, take the corresponding value in the sorted dataset.\n",
    "#If the position is not an integer, take the average of the values at the two closest positions.\n",
    "\n",
    "n = len(x)\n",
    "q3_position = (3 * n + 1) // 4 if n % 4 == 1 else (3 * n // 4) + 1\n",
    "\n",
    "# Calculate Q3\n",
    "if q3_position % 1 == 0:  # If q3_position is an integer\n",
    "    q3 = x_sorted[int(q3_position) - 1]\n",
    "else:\n",
    "    lower_index = int(q3_position) - 1\n",
    "    upper_index = int(q3_position)\n",
    "    q3 = (x_sorted[lower_index] + x_sorted[upper_index]) / 2\n",
    "\n",
    "diq = q3-q1\n",
    "    \n",
    "print(\"Q3:\", q3)\n",
    "\n",
    "print(\"DIQ = \", diq)"
   ]
  },
  {
   "cell_type": "markdown",
   "metadata": {},
   "source": [
    "7. Dessinez la boite à moustache associée sur une feuille.\n",
    "\n",
    "Selon les calculs effectués, y a-t-il une variable aberrante parmi ces notes ?"
   ]
  },
  {
   "cell_type": "code",
   "execution_count": 22,
   "metadata": {},
   "outputs": [
    {
     "data": {
      "image/png": "[encoded data removed]",
      "text/plain": [
       "<Figure size 432x288 with 1 Axes>"
      ]
     },
     "metadata": {
      "needs_background": "light"
     },
     "output_type": "display_data"
    },
    {
     "name": "stdout",
     "output_type": "stream",
     "text": [
      "Valeurs aberrantes : []\n"
     ]
    }
   ],
   "source": [
    "## Avant de dessiner le graphique, vous pouvez également identifier les valeurs aberrantes en utilisant des critères\n",
    "## tels que la règle des 1,5 fois l'écart interquartile (IQR).\n",
    "lower_bound = q1 - 1.5 * diq\n",
    "upper_bound = q3 + 1.5 * diq\n",
    "outliers = (x < lower_bound) | (x > upper_bound)\n",
    "\n",
    "# Dessiner la boîte à moustaches\n",
    "plt.boxplot(x)\n",
    "plt.title('Boîte à moustaches')\n",
    "plt.show()\n",
    "\n",
    "# Afficher les valeurs aberrantes\n",
    "print(\"Valeurs aberrantes :\", x[outliers])"
   ]
  },
  {
   "cell_type": "code",
   "execution_count": null,
   "metadata": {},
   "outputs": [],
   "source": [
    "La multiplication par 1.5 est une convention couramment utilisée dans la construction de \n",
    "boîtes à moustaches (boxplots) pour déterminer les limites des valeurs aberrantes. \n",
    "Cette convention est basée sur la règle empirique de l'écart interquartile (IQR).\n",
    "\n",
    "L'écart interquartile (IQR) est la différence entre le premier quartile (Q1) et le troisième quartile (Q3).\n",
    "Les moustaches d'une boîte à moustaches sont généralement étendues jusqu'aux valeurs non aberrantes,\n",
    "qui sont définies comme suit :\n",
    "\n",
    "La constante 1.5 est souvent utilisée comme seuil pour déterminer quelles \n",
    "valeurs sont susceptibles d'être des valeurs aberrantes. Cependant, d'autres valeurs, comme 3,\n",
    "peuvent également être utilisées en fonction des préférences et des normes spécifiques à l'analyse statistique.\n",
    "\n",
    "L'idée est que si une valeur est située à plus de 1.5 fois l'IQR \n",
    "au-dessus du troisième quartile ou en dessous du premier quartile, elle est considérée comme\n",
    "une valeur aberrante potentielle. Cela aide à identifier les points de données qui\n",
    "s'écartent significativement de la tendance centrale de l'ensemble de données."
   ]
  }
 ],
 "metadata": {
  "kernelspec": {
   "display_name": "Python 3 (ipykernel)",
   "language": "python",
   "name": "python3"
  },
  "language_info": {
   "codemirror_mode": {
    "name": "ipython",
    "version": 3
   },
   "file_extension": ".py",
   "mimetype": "text/x-python",
   "name": "python",
   "nbconvert_exporter": "python",
   "pygments_lexer": "ipython3",
   "version": "3.10.12"
  }
 },
 "nbformat": 4,
 "nbformat_minor": 4
}
