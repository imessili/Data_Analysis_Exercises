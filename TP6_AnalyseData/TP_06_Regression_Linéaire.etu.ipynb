{
 "cells": [
  {
   "cell_type": "markdown",
   "metadata": {},
   "source": [
    "# TP 6 : La Régression Linéaire"
   ]
  },
  {
   "cell_type": "markdown",
   "metadata": {},
   "source": [
    "Le but du TP est de mettre en oeuvre une régression linéaire sur un exemple jouet puis sur des données réelles. Pour cela, vous aurez besoin des formules du cours pour retrouver les coefficients permettant de calculer une régression linéaire. "
   ]
  },
  {
   "cell_type": "markdown",
   "metadata": {},
   "source": [
    "## Ex. 1 : La régression simple"
   ]
  },
  {
   "cell_type": "markdown",
   "metadata": {},
   "source": [
    "1. Nous donnons les couples d’observations suivantes :\n",
    "\n",
    "x| 18| 7 | 14| 31| 21|  5| 11| 16| 26| 29\n",
    "-|---|---|---|---|---|---|---|---|---|---\n",
    "y| 55| 17| 36| 85| 62| 18| 33| 41| 63| 87\n"
   ]
  },
  {
   "cell_type": "code",
   "execution_count": 2,
   "metadata": {},
   "outputs": [],
   "source": [
    "import numpy as np\n",
    "import matplotlib.pyplot as plt"
   ]
  },
  {
   "cell_type": "code",
   "execution_count": 3,
   "metadata": {},
   "outputs": [],
   "source": [
    "x=np.array([18, 7, 14, 31, 21, 5, 11, 16, 26, 29, 8])\n",
    "y=np.array([55, 17, 36, 85, 62, 18, 33, 41, 63, 87, 2])"
   ]
  },
  {
   "cell_type": "markdown",
   "metadata": {},
   "source": [
    "2. Tracer le graphique des couples $x$ et $y$. A partir de ce graphe, peut on soupconner une relation linéaire entre les variables $x$ et $y$ ?"
   ]
  },
  {
   "cell_type": "code",
   "execution_count": 4,
   "metadata": {},
   "outputs": [
    {
     "data": {
      "image/png": "[encoded data removed]",
      "text/plain": [
       "<Figure size 576x432 with 1 Axes>"
      ]
     },
     "metadata": {
      "needs_background": "light"
     },
     "output_type": "display_data"
    }
   ],
   "source": [
    "# Créer le plot en 2D\n",
    "plt.figure(figsize=(8, 6))\n",
    "\n",
    "# Tracer les points avec une couleur par espèce\n",
    "plt.scatter(x, y)\n",
    "\n",
    "# Ajouter des titres et des étiquettes\n",
    "plt.title('Visualisation des données en 2D')\n",
    "plt.xlabel('X-axis')\n",
    "plt.ylabel('Y-axis')\n",
    "\n",
    "# Afficher le plot\n",
    "plt.show()"
   ]
  },
  {
   "cell_type": "markdown",
   "metadata": {},
   "source": [
    "3. Déterminer pour ces observations la droite de régression au sens des moindres carrés. Pour cela il faudra déterminer les coefficients a et b."
   ]
  },
  {
   "cell_type": "code",
   "execution_count": 5,
   "metadata": {},
   "outputs": [],
   "source": [
    "## Calcule moyennes\n",
    "mx = np.mean(x)\n",
    "my = np.mean(y)\n",
    "\n",
    "## Calcule cov et var\n",
    "sxx = np.sum((x-mx)**2)\n",
    "sxy = (x-mx).T @ (y-my)\n",
    "\n",
    "## Théorème des moindres carrées\n",
    "a = sxy/sxx\n",
    "b = my - a*mx\n",
    "yp = a*x+b"
   ]
  },
  {
   "cell_type": "markdown",
   "metadata": {},
   "source": [
    "4. Tracez la droite de régression sur les données."
   ]
  },
  {
   "cell_type": "code",
   "execution_count": 6,
   "metadata": {},
   "outputs": [
    {
     "data": {
      "image/png": "[encoded data removed]",
      "text/plain": [
       "<Figure size 576x432 with 1 Axes>"
      ]
     },
     "metadata": {
      "needs_background": "light"
     },
     "output_type": "display_data"
    }
   ],
   "source": [
    "# Créer le plot en 2D\n",
    "plt.figure(figsize=(8, 6))\n",
    "\n",
    "# Tracer les points avec une couleur par espèce\n",
    "plt.scatter(x, y)\n",
    "\n",
    "# Tracer la ligne de regression\n",
    "plt.plot(x, yp, color='red', label='Regression line Sk_learn')\n",
    "\n",
    "# Ajouter des titres et des étiquettes\n",
    "plt.title('Visualisation des données en 2D')\n",
    "plt.xlabel('X-axis')\n",
    "plt.ylabel('Y-axis')\n",
    "\n",
    "# Afficher le plot\n",
    "plt.show()"
   ]
  },
  {
   "cell_type": "markdown",
   "metadata": {},
   "source": [
    "5. Donner une estimation des erreurs $\\epsilon_i,i=1,n$"
   ]
  },
  {
   "cell_type": "code",
   "execution_count": 6,
   "metadata": {},
   "outputs": [
    {
     "name": "stdout",
     "output_type": "stream",
     "text": [
      "Estimation des erreurs:  [  6.40188806   1.01618341  -0.73836817  -2.14227916   4.50708024\n",
      "   7.94605529   5.15643965  -1.66824005  -9.31759946   5.78759272\n",
      " -16.94875253]\n"
     ]
    }
   ],
   "source": [
    "e = y - yp\n",
    "print(\"Estimation des erreurs: \", e)"
   ]
  },
  {
   "cell_type": "markdown",
   "metadata": {},
   "source": [
    "6. Calculer la moyenne empirique et la variance empirique des erreurs. Comparez la variance avec l'estimateur non biaisé de la variance donné par $s_y^2 = \\frac{1}{n-1}\\sum_{i=1}^n (y_i - \\overline y)^2$"
   ]
  },
  {
   "cell_type": "code",
   "execution_count": 7,
   "metadata": {},
   "outputs": [
    {
     "name": "stdout",
     "output_type": "stream",
     "text": [
      "0.0\n",
      "51.59553730153868\n",
      "767.8545454545456\n"
     ]
    }
   ],
   "source": [
    "M_imp = 1/len(e) * np.sum(e)\n",
    "print(M_imp)\n",
    "\n",
    "Var_imp = 1/len(e) * np.sum((e - M_imp)**2)\n",
    "print(Var_imp)\n",
    "\n",
    "Var_non_bias = 1/(len(x)-1) * np.sum((y - np.mean(y))**2)\n",
    "print(Var_non_bias)"
   ]
  },
  {
   "cell_type": "markdown",
   "metadata": {},
   "source": [
    "7. Donner une estimation plausible de $y$ lorsque $x = 17$. Quel intervalle de confiance associer à cette prédiction ?"
   ]
  },
  {
   "cell_type": "code",
   "execution_count": 8,
   "metadata": {},
   "outputs": [
    {
     "name": "stdout",
     "output_type": "stream",
     "text": [
      "45.63317599460553\n",
      "Intervalle de confiance pour la prédiction de y lorsque x=17: (42.07082273502207, 49.19552925418899)\n"
     ]
    }
   ],
   "source": [
    "import scipy.stats as st \n",
    "\n",
    "# Calcul de la prédiction de y lorsque x=17\n",
    "y_17 = a * 17 + b\n",
    "\n",
    "print(y_17)\n",
    "\n",
    "# Écart-type des résidus (ou des erreurs de prédiction)\n",
    "residuals_std = np.std(e)\n",
    "\n",
    "# Taille de l'échantillon (nombre d'observations)\n",
    "n = len(x)\n",
    "\n",
    "# Calcul de l'erreur standard de la prédiction\n",
    "prediction_sem = residuals_std / np.sqrt(n)\n",
    "\n",
    "# Calcul de l'intervalle de confiance pour la prédiction de y lorsque x=17\n",
    "prediction_interval = st.norm.interval(alpha=0.90, loc=y_17, scale=prediction_sem)\n",
    "\n",
    "print(\"Intervalle de confiance pour la prédiction de y lorsque x=17:\", prediction_interval)"
   ]
  },
  {
   "cell_type": "markdown",
   "metadata": {},
   "source": [
    "8. a) Donner une estimation plausible de y lorsque x = 48. Quel intervalle de confiance associer à cette prédiction ?"
   ]
  },
  {
   "cell_type": "code",
   "execution_count": 9,
   "metadata": {},
   "outputs": [
    {
     "name": "stdout",
     "output_type": "stream",
     "text": [
      "45.63317599460553\n",
      "Intervalle de confiance pour la prédiction de y lorsque x=48: (42.07082273502207, 49.19552925418899)\n"
     ]
    }
   ],
   "source": [
    "import scipy.stats as st \n",
    "\n",
    "# Calcul de la prédiction de y lorsque x=17\n",
    "y_48 = a * 17 + b\n",
    "\n",
    "print(y_48)\n",
    "\n",
    "# Écart-type des résidus (ou des erreurs de prédiction)\n",
    "residuals_std = np.std(e)\n",
    "\n",
    "# Taille de l'échantillon (nombre d'observations)\n",
    "n = len(x)\n",
    "\n",
    "# Calcul de l'erreur standard de la prédiction\n",
    "prediction_sem = residuals_std / np.sqrt(n)\n",
    "\n",
    "# Calcul de l'intervalle de confiance pour la prédiction de y lorsque x=17\n",
    "prediction_interval = st.norm.interval(alpha=0.90, loc=y_17, scale=prediction_sem)\n",
    "\n",
    "print(\"Intervalle de confiance pour la prédiction de y lorsque x=48:\", prediction_interval)"
   ]
  },
  {
   "cell_type": "markdown",
   "metadata": {},
   "source": [
    "b) Comparez le avec le précédent\n"
   ]
  },
  {
   "cell_type": "markdown",
   "metadata": {},
   "source": [
    "9. Une nouvelle observation nous est fournie : $x_{11} = 48$ et $y_{11} = 2$\n",
    "    1. Que devient la droite de regression linéaire ?"
   ]
  },
  {
   "cell_type": "code",
   "execution_count": 12,
   "metadata": {},
   "outputs": [
    {
     "name": "stdout",
     "output_type": "stream",
     "text": [
      "(12,)\n",
      "(12,)\n"
     ]
    },
    {
     "data": {
      "image/png": "[encoded data removed]",
      "text/plain": [
       "<Figure size 720x720 with 1 Axes>"
      ]
     },
     "metadata": {
      "needs_background": "light"
     },
     "output_type": "display_data"
    }
   ],
   "source": [
    "x11 = 48\n",
    "y11 = 2\n",
    "\n",
    "new_x= np.append(x,x11)\n",
    "new_y= np.append(y,y11)\n",
    "\n",
    "print(new_x.shape)\n",
    "print(new_y.shape)\n",
    "\n",
    "## Calcule moyennes\n",
    "new_mx = np.mean(new_x)\n",
    "new_my = np.mean(new_y)\n",
    "\n",
    "## Calcule cov et var\n",
    "new_sxx = np.sum((new_x-new_mx)**2)\n",
    "new_sxy = (new_x-new_mx).T @ (new_y-new_my)\n",
    "\n",
    "## Théorème des moindres carrées\n",
    "new_a = new_sxy/new_sxx\n",
    "new_b = new_my - new_a*new_mx\n",
    "new_yp = new_a*new_x+new_b\n",
    "\n",
    "# Créer le plot en 2D\n",
    "plt.figure(figsize=(10, 10))\n",
    "\n",
    "# Tracer les points avec une couleur par espèce\n",
    "plt.scatter(new_x, new_y)\n",
    "\n",
    "# Tracer la ligne de regression\n",
    "plt.plot(new_x, new_yp, color='red', label='Regression line')\n",
    "\n",
    "# Ajouter des titres et des étiquettes\n",
    "plt.title('Visualisation des données en 2D')\n",
    "plt.xlabel('X-axis')\n",
    "plt.ylabel('Y-axis')\n",
    "\n",
    "# Afficher le plot\n",
    "plt.show()"
   ]
  },
  {
   "cell_type": "markdown",
   "metadata": {},
   "source": [
    "B. Quelle est l’influence de ce point sur cette droite ?"
   ]
  },
  {
   "cell_type": "code",
   "execution_count": 13,
   "metadata": {},
   "outputs": [],
   "source": [
    "##Point aberrant, mauvaise influence"
   ]
  },
  {
   "cell_type": "markdown",
   "metadata": {
    "jupyter": {
     "outputs_hidden": true
    }
   },
   "source": [
    "## Ex 2 : Régression sur $CO_2$ et température moyenne du globe\n",
    "\n",
    "Le but de ce second exercice est d'appliquer la régression au sens des moindres carrés sur des données réelles. Ici la variable explicative est le taux de $CO_2$ dans l'atmosphère, et la variable à expliquer la température moyenne à la surface du globe, avec pour référence  à 0 la température moyenne sur la période 1961-1990. \n",
    "Les données sont les mêmes que dans le TP4, où nous avons trouvé une corrélation d'environ 0.8. \n",
    "Maintenant, nous allons chercher à calculer les estimateurs du modèle linéaire. Il faut donc appliquer tout ce que nous avons vu sur des données jouets, et interprétez ces résultats.\n",
    "\n",
    "1. Chargez les données contenues dans 'data_global_warming.npz'\n"
   ]
  },
  {
   "cell_type": "code",
   "execution_count": 14,
   "metadata": {},
   "outputs": [
    {
     "data": {
      "text/plain": [
       "[<matplotlib.lines.Line2D at 0x7f8c1ba2bdf0>]"
      ]
     },
     "execution_count": 14,
     "metadata": {},
     "output_type": "execute_result"
    },
    {
     "data": {
      "image/png": "[encoded data removed]",
      "text/plain": [
       "<Figure size 432x288 with 1 Axes>"
      ]
     },
     "metadata": {
      "needs_background": "light"
     },
     "output_type": "display_data"
    }
   ],
   "source": [
    "import numpy as np\n",
    "\n",
    "temp = np.load('temp.npy')\n",
    "co2 = np.load('co2.npy')\n",
    "\n",
    "plt.plot(co2,temp,'o')"
   ]
  },
  {
   "cell_type": "markdown",
   "metadata": {},
   "source": [
    "2. Créez une fonction `regression_fit` calculant les estimateurs $a$ et $b$ donné $x$ et $y$"
   ]
  },
  {
   "cell_type": "markdown",
   "metadata": {},
   "source": [
    "```python\n",
    "def regression_fit(x_,y_):\n",
    "    ...\n",
    "    return a,b\n",
    "a,b = regression_fit(co2,temp)\n",
    "```"
   ]
  },
  {
   "cell_type": "code",
   "execution_count": 15,
   "metadata": {},
   "outputs": [],
   "source": [
    "def regression_fit(x_,y_):\n",
    "    \n",
    "    ## Calcule moyennes\n",
    "    mx = np.mean(x_)\n",
    "    my = np.mean(y_)\n",
    "\n",
    "    ## Calcule cov et var\n",
    "    sxx = np.sum((x_-mx)**2)\n",
    "    sxy = (x_-mx).T @ (y_-my)\n",
    "\n",
    "    ## Théorème des moindres carrées\n",
    "    a = sxy/sxx\n",
    "    b = my - a*mx\n",
    "    \n",
    "    return a,b\n",
    "\n",
    "a,b = regression_fit(co2,temp)"
   ]
  },
  {
   "cell_type": "markdown",
   "metadata": {},
   "source": [
    "3. Créez une fonction `regression_predict` qui calcule l'estimation de $y$ donnés $x$, $a$ et $b$. "
   ]
  },
  {
   "cell_type": "markdown",
   "metadata": {},
   "source": [
    "```python\n",
    "def regression_predict(x_,a_,b_):\n",
    "    return ...\n",
    "```"
   ]
  },
  {
   "cell_type": "code",
   "execution_count": 16,
   "metadata": {},
   "outputs": [],
   "source": [
    "def regression_predict(x_,a_,b_):\n",
    "    return a_ * x_ + b"
   ]
  },
  {
   "cell_type": "markdown",
   "metadata": {},
   "source": [
    "4. Créez une fonction `residuals` qui calcule les résidus. Quelles sont les paramètres de cette fonction ? Est ce que les erreurs vous paraissent avoir une distribution gaussienne ?"
   ]
  },
  {
   "cell_type": "markdown",
   "metadata": {},
   "source": [
    "```python\n",
    "def residuals(...,...):\n",
    "    return ...\n",
    "\n",
    "erreurs = residuals(...)\n",
    "```"
   ]
  },
  {
   "cell_type": "code",
   "execution_count": 17,
   "metadata": {},
   "outputs": [],
   "source": [
    "def residuals(y_,yp_):\n",
    "    return y_ - yp_\n",
    "\n",
    "erreurs = residuals(temp, regression_predict(co2,a,b))"
   ]
  },
  {
   "cell_type": "markdown",
   "metadata": {},
   "source": [
    "4. Calculez les valeurs prédites sur l'intervalle \\[1,5\\] avec un pas de 0.1 et plottez le résultat sur les données."
   ]
  },
  {
   "cell_type": "code",
   "execution_count": 18,
   "metadata": {},
   "outputs": [
    {
     "name": "stdout",
     "output_type": "stream",
     "text": [
      "(41,)\n",
      "(1, 41)\n"
     ]
    }
   ],
   "source": [
    "x_values = np.arange(1, 5.1, 0.1)\n",
    "predicted_values = regression_predict(x_values, a, b)\n",
    "print(x_values.shape)\n",
    "print(predicted_values.shape)"
   ]
  },
  {
   "cell_type": "code",
   "execution_count": 15,
   "metadata": {},
   "outputs": [
    {
     "data": {
      "image/png": "[encoded data removed]",
      "text/plain": [
       "<Figure size 720x432 with 1 Axes>"
      ]
     },
     "metadata": {
      "needs_background": "light"
     },
     "output_type": "display_data"
    }
   ],
   "source": [
    "plt.figure(figsize=(10, 6))\n",
    "plt.plot(co2, temp, 'o', label='Original Data')\n",
    "\n",
    "plt.plot(x_values, predicted_values.squeeze(), label='Predicted Values (Interval [1, 5])')\n",
    "\n",
    "plt.xlabel('CO2')\n",
    "plt.ylabel('Temperature')\n",
    "\n",
    "plt.title('Regression Predictions')\n",
    "plt.legend()\n",
    "plt.grid(True)\n",
    "plt.show()"
   ]
  },
  {
   "cell_type": "markdown",
   "metadata": {},
   "source": [
    "5. Affichez la valeur de $a$ et concluez sur la nature de la relation entre $CO_2$ et température."
   ]
  },
  {
   "cell_type": "code",
   "execution_count": 19,
   "metadata": {},
   "outputs": [
    {
     "name": "stdout",
     "output_type": "stream",
     "text": [
      "[[0.20555681]] [[-0.618338]]\n"
     ]
    }
   ],
   "source": [
    "print(a,b)"
   ]
  },
  {
   "cell_type": "markdown",
   "metadata": {
    "tags": [
     "correciton"
    ]
   },
   "source": [
    "# Différentes manieères de calculer le $R^2$"
   ]
  },
  {
   "cell_type": "code",
   "execution_count": 20,
   "metadata": {},
   "outputs": [],
   "source": [
    "import numpy as np\n",
    "\n",
    "def r_squared(y_true, y_pred):\n",
    "    # Calculate the mean of the true values\n",
    "    y_true_mean = np.mean(y_true)\n",
    "    \n",
    "    # Calculate the total sum of squares (TSS)\n",
    "    tss = np.sum((y_true - y_true_mean)**2)\n",
    "    \n",
    "    # Calculate the residual sum of squares (RSS)\n",
    "    rss = np.sum((y_true - y_pred)**2)\n",
    "    \n",
    "    # Calculate R-squared\n",
    "    r2 = 1 - (rss / tss)\n",
    "    \n",
    "    return r2"
   ]
  },
  {
   "cell_type": "code",
   "execution_count": 22,
   "metadata": {},
   "outputs": [
    {
     "name": "stdout",
     "output_type": "stream",
     "text": [
      "-64.9206388253779\n"
     ]
    }
   ],
   "source": [
    "r_sqrt = r_squared(temp,predicted_values.squeeze())\n",
    "print(r_sqrt)"
   ]
  },
  {
   "cell_type": "code",
   "execution_count": null,
   "metadata": {},
   "outputs": [],
   "source": []
  }
 ],
 "metadata": {
  "kernelspec": {
   "display_name": "Python 3 (ipykernel)",
   "language": "python",
   "name": "python3"
  },
  "language_info": {
   "codemirror_mode": {
    "name": "ipython",
    "version": 3
   },
   "file_extension": ".py",
   "mimetype": "text/x-python",
   "name": "python",
   "nbconvert_exporter": "python",
   "pygments_lexer": "ipython3",
   "version": "3.10.12"
  }
 },
 "nbformat": 4,
 "nbformat_minor": 4
}
