{
 "cells": [
  {
   "cell_type": "markdown",
   "metadata": {},
   "source": [
    "# Ex 1: Régression multiple\n",
    "\n",
    "Nous allons évaluer notre modèle de régression linéaire sur le jeu de données diabetes, que l'on a déjà traité. Ici, nous allons utiliser la variable à expliquer, correspondant à un indice d'évolution de la maladie.\n",
    "Plus de détails directement sur le site de sklearn : [lien](https://scikit-learn.org/stable/datasets/toy_dataset.html#diabetes-dataset)\n",
    "\n",
    "Pour implémenter la régression multiple, nous allons utiliser la modélisation matricielle.\n",
    "\n",
    "1. Charger les données et faites les analyses statistiques et visualisations qui vous paraissent appropriées. Commentez la deuxième colonne des données."
   ]
  },
  {
   "cell_type": "markdown",
   "metadata": {},
   "source": [
    "```python\n",
    "import numpy as np\n",
    "import matplotlib.pyplot as plt\n",
    "\n",
    "from sklearn.datasets import load_diabetes\n",
    "X,y = ...\n",
    "```"
   ]
  },
  {
   "cell_type": "code",
   "execution_count": 15,
   "metadata": {},
   "outputs": [],
   "source": [
    "import numpy as np\n",
    "import matplotlib.pyplot as plt"
   ]
  },
  {
   "cell_type": "code",
   "execution_count": 1,
   "metadata": {},
   "outputs": [
    {
     "name": "stdout",
     "output_type": "stream",
     "text": [
      "(442, 10)\n",
      "(442,)\n"
     ]
    }
   ],
   "source": [
    "from sklearn.datasets import load_diabetes\n",
    "X, y = load_diabetes(return_X_y=True, scaled=True)\n",
    "\n",
    "print(X.shape)\n",
    "print(y.shape)\n",
    "\n",
    "##print(X)\n",
    "##print(y)"
   ]
  },
  {
   "cell_type": "markdown",
   "metadata": {},
   "source": [
    "2. Construisez la matrice $X$ pour la régression. Il faut ajouter une colonne de 1 afin de prendre en compte le coefficient $a_0$\n",
    "\n",
    "La fusion de tableau sur numpy peut être compliquée, tant de solutions existent. La liste des fonctions existantes est disponible [ici](https://numpy.org/doc/stable/reference/routines.array-manipulation.html#joining-arrays). Un tutoriel est dispo [ici](https://kanoki.org/2020/01/10/concatenating-arrays-in-numpy/).\n",
    "Pour cet exercice, on utilisera la fonction `np.concatenate` pour fusionner `X` et une matrice de 1 obtenue par `np.ones((n,1))`"
   ]
  },
  {
   "cell_type": "code",
   "execution_count": 25,
   "metadata": {},
   "outputs": [],
   "source": [
    "import numpy as np\n",
    "\n",
    "# Ajouter une colonne de 1 pour représenter l'ordonnée à l'origine\n",
    "X_with_intercept = np.hstack((X, np.ones((X.shape[0], 1))))"
   ]
  },
  {
   "cell_type": "markdown",
   "metadata": {},
   "source": [
    "3. Calculez le vecteur $\\alpha$ optimisant le problème de régression au sens des moindres carrés. Visualisez les différentes valeurs avec `plt.bar`\n",
    " \n",
    "Attention : Il est généralement déconseillé d'inverser une matrice si cela n'est pas absolument nécessaire. Vous devriez trouver la fonction qu'il vous faut [ici](https://numpy.org/doc/stable/reference/routines.linalg.html#solving-equations-and-inverting-matrices)"
   ]
  },
  {
   "cell_type": "markdown",
   "metadata": {},
   "source": [
    "```python\n",
    "def fit(X,y):\n",
    "    ...\n",
    "    return alpha\n",
    "```"
   ]
  },
  {
   "cell_type": "code",
   "execution_count": 24,
   "metadata": {},
   "outputs": [],
   "source": [
    "def fit(X,y):\n",
    "    alpha = np.linalg.inv(X.T @ X) @ (X.T @ y)\n",
    "    return alpha"
   ]
  },
  {
   "cell_type": "markdown",
   "metadata": {},
   "source": [
    "4. Pour chaque observation, calculez $z=X\\alpha$ et comparez aux valeurs réelles en calculant la moyenne des valeurs absolues des résidus."
   ]
  },
  {
   "cell_type": "markdown",
   "metadata": {},
   "source": [
    "```python\n",
    "def predict(X,alpha):\n",
    "    '''\n",
    "    X : toutes les variables explicatives *sans* la colonne des uns\n",
    "    \n",
    "    '''\n",
    "    return ...\n",
    "\n",
    "z = predict(X,alpha)\n",
    "````"
   ]
  },
  {
   "cell_type": "code",
   "execution_count": 13,
   "metadata": {},
   "outputs": [],
   "source": [
    "def predict(X,alpha):\n",
    "    '''\n",
    "    X : toutes les variables explicatives *sans* la colonne des uns\n",
    "    \n",
    "    '''\n",
    "    return X @ alpha"
   ]
  },
  {
   "cell_type": "code",
   "execution_count": 17,
   "metadata": {},
   "outputs": [],
   "source": [
    "def mean_absolute_residuals(y_true, y_pred):\n",
    "    residuals = np.abs(y_true - y_pred)\n",
    "    return np.mean(residuals)"
   ]
  },
  {
   "cell_type": "code",
   "execution_count": 26,
   "metadata": {},
   "outputs": [
    {
     "name": "stdout",
     "output_type": "stream",
     "text": [
      "La moyenne des résidus absolus est : 43.27745202531506\n"
     ]
    }
   ],
   "source": [
    "# Ajuster le modèle\n",
    "alpha = fit(X_with_intercept, y)\n",
    "\n",
    "# Prédire les valeurs\n",
    "y_pred = predict(X_with_intercept, alpha)\n",
    "\n",
    "# Calculer la moyenne des résidus absolus\n",
    "mae = mean_absolute_residuals(y, y_pred)\n",
    "\n",
    "print(\"La moyenne des résidus absolus est :\", mae)"
   ]
  },
  {
   "cell_type": "markdown",
   "metadata": {},
   "source": [
    "5. Calculez le coefficient de détermination R² pour évaluer la qualité de votre prédiction. Commentez votre résultat. Quelles pistes pour l'améliorer ?\n",
    "\n",
    "Bonus : Vous pouvez essayer de le calculer de plusieurs manières différentes"
   ]
  },
  {
   "cell_type": "code",
   "execution_count": 31,
   "metadata": {
    "tags": []
   },
   "outputs": [
    {
     "data": {
      "text/plain": [
       "<BarContainer object of 10 artists>"
      ]
     },
     "execution_count": 31,
     "metadata": {},
     "output_type": "execute_result"
    },
    {
     "data": {
      "image/png": "[encoded data removed]",
      "text/plain": [
       "<Figure size 432x288 with 1 Axes>"
      ]
     },
     "metadata": {
      "needs_background": "light"
     },
     "output_type": "display_data"
    }
   ],
   "source": [
    "# Extension à un autre dataset, permet de voir que les fonctions sont utiles et correctes\n",
    "data_pine = np.loadtxt('TP_07_Regression_Multiple_pine_full.csv',skiprows=1,delimiter=\",\")\n",
    "X = data_pine[:,:-1]\n",
    "X_norm = (X - np.mean(X,axis=0))/np.std(X,axis=0)\n",
    "y = data_pine[:,-1]\n",
    "alpha = fit(X_norm,y)\n",
    "z = predict(X_norm,alpha)\n",
    "np.corrcoef(z,y)[0,1]**2\n",
    "plt.figure();\n",
    "plt.bar(np.arange(X.shape[1]),alpha)"
   ]
  },
  {
   "cell_type": "code",
   "execution_count": null,
   "metadata": {},
   "outputs": [],
   "source": []
  },
  {
   "cell_type": "markdown",
   "metadata": {},
   "source": [
    "## Ex. 2 — Histoire de température\n",
    "Un méteorologue nous a fourni les données suivantes de température et de concentration en ozone mesurées au centre de la ville de Caen, à la même heure, les lundis de printemps 2007."
   ]
  },
  {
   "cell_type": "markdown",
   "metadata": {},
   "source": [
    "|x : Température | y : Ozone|\n",
    "|:---:| --- |\n",
    "|23.1 | 81.4|\n",
    "|18.9 | 52.6|\n",
    "|16.4 | 48.4|\n",
    "|14.6 | 38.0|\n",
    "|20.3 | 39.4|\n",
    "|25.4 | 34.2|\n",
    "|21.5 | 61.9|\n",
    "|22.1 | 77.3|\n",
    "|17.3 | 34.0|\n",
    "|14.8 | 49.8|\n",
    "|25.5 | 97.0|\n",
    "|23.1 | 67.8|\n",
    "|24.2 | 92.7|"
   ]
  },
  {
   "cell_type": "markdown",
   "metadata": {},
   "source": [
    "pour expliquer la concentration d’ozone en fonction de la température, les météorologues proposent le modèle suivant :\n",
    "\\begin{equation}\n",
    "y = \\begin{cases}\n",
    "    b + \\varepsilon & \\text{ si } x \\lt c\\\\\n",
    "    ax + d + \\varepsilon & \\text{ si } x \\ge  c\n",
    "  \\end{cases}\n",
    "\\end{equation}\n",
    "\n",
    "Ces données sont présentes dans le fichier meteo.csv sur Moodle."
   ]
  },
  {
   "cell_type": "markdown",
   "metadata": {},
   "source": [
    "1. Réécrire le modèle en éliminant d en utilisant la contrainte de continuité du modèle"
   ]
  },
  {
   "cell_type": "markdown",
   "metadata": {},
   "source": [
    "La continuité implique $b = ac+d$ soit $d = b - ac$. Sans $d$ le modèle s'écrit alors : \n",
    "\\begin{equation}\n",
    "y = \\begin{cases}\n",
    "    b + \\varepsilon & \\text{ si } x \\lt c\\\\\n",
    "    a(x-c) + b + \\varepsilon & \\text{ si } x \\ge  c\n",
    "  \\end{cases}\n",
    "\\end{equation}"
   ]
  },
  {
   "cell_type": "markdown",
   "metadata": {},
   "source": [
    "2. Sachant que c = 21, donnez l’estimateur de a et b au sens des moindres carrés.\n",
    "\n",
    "    a) Expliciter  la transformation de X tel que le modèle s’écrive $y = X \\alpha + \\varepsilon$"
   ]
  },
  {
   "cell_type": "markdown",
   "metadata": {},
   "source": [
    "x_transform = 0 si x < c, x-c sinon.\n"
   ]
  },
  {
   "cell_type": "code",
   "execution_count": 8,
   "metadata": {},
   "outputs": [
    {
     "name": "stdout",
     "output_type": "stream",
     "text": [
      "[23.1 18.9 16.4 14.6 20.3 25.4 21.5 22.1 17.3 14.8 25.5 23.1 24.2]\n"
     ]
    }
   ],
   "source": [
    "import numpy as np\n",
    "data = np.loadtxt(\"TP_07_Regression_Multiple_meteo.csv\", delimiter=\",\")\n",
    "x = data[:, 0]\n",
    "print(x)\n",
    "y = data[:, 1]\n",
    "c=21\n",
    "x_transform = data[:, 0].copy()\n",
    "\n",
    "for i,xi in enumerate(x_transform):\n",
    "    if (xi < c) :\n",
    "        x_transform[i] = 0\n",
    "    else :\n",
    "        x_transform[i] = xi - c\n",
    "\n",
    "X = np.stack([x_transform, np.ones(len(x_transform))], axis=-1)\n"
   ]
  },
  {
   "cell_type": "code",
   "execution_count": null,
   "metadata": {},
   "outputs": [],
   "source": []
  },
  {
   "cell_type": "markdown",
   "metadata": {},
   "source": [
    "b) Calculer l’estimateur de a et b au sens des moindres carrés"
   ]
  },
  {
   "cell_type": "markdown",
   "metadata": {},
   "source": [
    "```python\n",
    "alpha = fit(x_new,y)\n",
    "z = predict(x_new,alpha)\n",
    "plt.plot(x,y,'o')\n",
    "x_plot = np.linspace(np.min(x),np.max(x),50)\n",
    "x_phi_plot = np.array([phi(x_i,c) for x_i in x_plot]).reshape(-1,1)\n",
    "z_plot = predict(x_phi_plot,alpha)\n",
    "plt.plot(x_plot,z_plot)\n",
    "```"
   ]
  },
  {
   "cell_type": "code",
   "execution_count": null,
   "metadata": {},
   "outputs": [],
   "source": []
  },
  {
   "cell_type": "markdown",
   "metadata": {},
   "source": [
    "c) Visualiser les observations et le modèle de régression"
   ]
  },
  {
   "cell_type": "code",
   "execution_count": null,
   "metadata": {},
   "outputs": [],
   "source": []
  },
  {
   "cell_type": "markdown",
   "metadata": {},
   "source": [
    "3\\. Prédictions\n",
    "    \n",
    " a) Quelle serait d’après votre modèle la concentration d’ozone lorque la température est de 27 degrés."
   ]
  },
  {
   "cell_type": "code",
   "execution_count": null,
   "metadata": {},
   "outputs": [],
   "source": []
  },
  {
   "cell_type": "markdown",
   "metadata": {},
   "source": [
    "b) Quelle serait d’après votre modèle la concentration d’ozone lorque la température est de 13 degrés."
   ]
  },
  {
   "cell_type": "code",
   "execution_count": null,
   "metadata": {},
   "outputs": [],
   "source": []
  },
  {
   "cell_type": "markdown",
   "metadata": {},
   "source": [
    "4\\. Quelle est la qualité de la régression ? Calculez le coefficient de détermination $R^2$"
   ]
  },
  {
   "cell_type": "code",
   "execution_count": null,
   "metadata": {},
   "outputs": [],
   "source": []
  },
  {
   "cell_type": "markdown",
   "metadata": {},
   "source": [
    "## Bonus : Ex. 3 — Regression"
   ]
  },
  {
   "cell_type": "markdown",
   "metadata": {},
   "source": [
    "Cherchant à expliquer la température d’un four (y) en fonction de l’hygrométrie (x) un boulanger a réalisé dix huit expériences différentes."
   ]
  },
  {
   "cell_type": "code",
   "execution_count": 14,
   "metadata": {},
   "outputs": [],
   "source": [
    "x = np.array([-0.20, 0.72, 0.08, 1.39, 0.22, 0.87, 1.38, 0.94, 0.36, 1.22, 0.74, 0.13, 0.21, 0.56, -0.35, -0.30, 0.48,\n",
    "0.48])\n",
    "y = np.array([-0.04, 1.30, 0.08, 1.37, 0.27, 1.36, 1.44, 1.28, 0.62, 1.29, 1.41, 0.12, 0.26, 1.16, -0.04, -0.16, 0.93,\n",
    "0.83])"
   ]
  },
  {
   "cell_type": "markdown",
   "metadata": {},
   "source": [
    "1. Le voisin du boulanger, lui même boulanger à la retraite, explique que le modèle linéaire n’est pas le bon. Le bon modèle est le suivant :\n",
    "\n",
    "\\begin{equation}\n",
    "y = \\begin{cases}\n",
    "    ax^2 + bx + \\epsilon  & \\text{ si } x \\le 0.6\\\\\n",
    "    c + \\epsilon & \\text{ si } x \\gt  0.6\n",
    "  \\end{cases}\n",
    "\\end{equation}\n",
    "    a) Ecrire le modèle sous la forme\n",
    "\n",
    "\\begin{equation}\n",
    "        y = X\\alpha + \\epsilon\n",
    "\\end{equation}\n",
    "et construire la matrice X associée\n",
    "\n",
    "La contrainte de continuité implique $a 0.36 + b 0.6 = c$. En éliminant $c$  le modèle devient : \n",
    "\\begin{equation}\n",
    "y = \\begin{cases}\n",
    "    ax^2 + bx + \\epsilon  & \\text{ si } x \\le 0.6\\\\\n",
    "    0.36 a + 0.6 b + \\epsilon & \\text{ si } x \\gt  0.6\n",
    "  \\end{cases}\n",
    "\\end{equation}\n",
    "et donc\n",
    "$$\n",
    "X = \\left(\n",
    " \\begin{array}{cc}\n",
    "  .2^2 & -.2 \\\\\n",
    " .36 & .6 \\\\\n",
    " .08^2 & .08 \\\\\n",
    " .36 & .6  \\\\\n",
    "\\vdots & \\vdots\\\\\n",
    " .48^2 & .48 \n",
    " \\end{array}\n",
    " \\right) \n",
    "$$\n"
   ]
  },
  {
   "cell_type": "code",
   "execution_count": null,
   "metadata": {},
   "outputs": [],
   "source": []
  },
  {
   "cell_type": "markdown",
   "metadata": {},
   "source": [
    "2\\. Estimer les paramètres du modèle"
   ]
  },
  {
   "cell_type": "code",
   "execution_count": null,
   "metadata": {},
   "outputs": [],
   "source": []
  },
  {
   "cell_type": "markdown",
   "metadata": {},
   "source": [
    "3\\. Visualiser les observations et le modèle de régression"
   ]
  },
  {
   "cell_type": "code",
   "execution_count": null,
   "metadata": {},
   "outputs": [],
   "source": []
  }
 ],
 "metadata": {
  "kernelspec": {
   "display_name": "Python 3 (ipykernel)",
   "language": "python",
   "name": "python3"
  },
  "language_info": {
   "codemirror_mode": {
    "name": "ipython",
    "version": 3
   },
   "file_extension": ".py",
   "mimetype": "text/x-python",
   "name": "python",
   "nbconvert_exporter": "python",
   "pygments_lexer": "ipython3",
   "version": "3.10.12"
  }
 },
 "nbformat": 4,
 "nbformat_minor": 4
}
