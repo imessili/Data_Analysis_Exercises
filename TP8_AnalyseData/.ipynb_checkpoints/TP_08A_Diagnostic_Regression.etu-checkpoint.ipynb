{
 "cells": [
  {
   "cell_type": "markdown",
   "metadata": {},
   "source": [
    "# TP 8 : Diagnostic de la régression : analyse des observations\n",
    "Le but du TP est de réaliser un diagnostic de régression général et via l'observation des variables. Ce Tp vous permettra d'implémenter le calcul du $R^2$, ainsi que des coefficients de levier et de contribution."
   ]
  },
  {
   "cell_type": "code",
   "execution_count": 1,
   "metadata": {},
   "outputs": [],
   "source": [
    "import numpy as np\n",
    "import matplotlib.pyplot as plt"
   ]
  },
  {
   "cell_type": "markdown",
   "metadata": {},
   "source": [
    "## Ex. 1 — Détection de points aberrants dans la régression\n",
    "On considère les n = 11 observations suivantes :\n",
    "\n",
    "i| 1| 2 |3| 4| 5| 6| 7| 8| 9 |10| 11\n",
    "---|---|---|---|---|---|---|---|---|---|---|---\n",
    "x | -1.0782 |0.0838| 0.1524 |0.2290| 0.4427| 0.4505| 0.5383| 0.8258| 0.9133| 0.9961| 3.0597\n",
    "y| -0.8307| 0.1538 |0.0926| 0.2336| 0.3903| 0.1005| 0.4812 |0.6595| 0.7175| 0.7648 |0.3519"
   ]
  },
  {
   "cell_type": "markdown",
   "metadata": {},
   "source": [
    "Les observations $y$ sont liées aux $x$ à travers le modèle linéaire :\n",
    "$y_i = ax_i + b + \\epsilon_i \\text{, avec    } i = 1, n$\n",
    "où les $\\epsilon_i$ sont des variables aléatoires i.i.d. distribuées selon une loi normale centrée de variance\n",
    "$\\sigma^2$ inconnue et $(a, b)$ sont deux paramètres inconnus.\n",
    "\n",
    "1. Effectuons les calculs liés au modèle de régression et à son diagnostic.\n",
    "\n",
    "    a) construire une matrice $X$ et un vecteur $y$ contenant les données de la régression que l’on souhaite effectuer."
   ]
  },
  {
   "cell_type": "code",
   "execution_count": 2,
   "metadata": {},
   "outputs": [],
   "source": [
    "Data = np.array([\n",
    "    [1, -1.0782, -.8307],\n",
    "    [2, 0.0838, 0.1538],\n",
    "    [3, 0.1524, 0.0926],\n",
    "    [4, 0.2290, 0.2336],\n",
    "    [5, 0.4427, 0.3903],\n",
    "    [6, 0.4505, 0.1005],\n",
    "    [7, 0.5383, 0.4812],\n",
    "    [8, 0.8258, 0.6595],\n",
    "    [9, 0.9133, 0.7175],\n",
    "    [10, 0.9961, 0.7648],\n",
    "    [11, 3.0597, 0.3519]\n",
    "])\n",
    "x = np.array([-1.0782, 0.0838,0.1524,  0.2290,0.4427,0.4505,0.5383,0.8258,0.9133,0.9961, 3.0597]).T\n",
    "y = np.array([-.8307,0.1538,0.0926, 0.2336, 0.3903, 0.1005, 0.4812, 0.6595, 0.7175, 0.7648, 0.3519]).T"
   ]
  },
  {
   "cell_type": "markdown",
   "metadata": {},
   "source": [
    "a) Calculer l’estimation de $a$ et $b$ sens des moindres carrés"
   ]
  },
  {
   "cell_type": "code",
   "execution_count": null,
   "metadata": {},
   "outputs": [],
   "source": []
  },
  {
   "cell_type": "markdown",
   "metadata": {},
   "source": [
    "b) Plotter $x$ et $y$, ainsi que votre droite de régression."
   ]
  },
  {
   "cell_type": "code",
   "execution_count": null,
   "metadata": {},
   "outputs": [],
   "source": []
  },
  {
   "cell_type": "markdown",
   "metadata": {},
   "source": [
    "c) Calculer des résidus et une estimation non biaisée de la variance des erreurs $\\sigma^2$."
   ]
  },
  {
   "cell_type": "code",
   "execution_count": null,
   "metadata": {},
   "outputs": [],
   "source": []
  },
  {
   "cell_type": "markdown",
   "metadata": {},
   "source": [
    "d) Évaluer la qualité globale de la régression"
   ]
  },
  {
   "cell_type": "code",
   "execution_count": null,
   "metadata": {},
   "outputs": [],
   "source": []
  },
  {
   "cell_type": "markdown",
   "metadata": {},
   "source": [
    "e) Visualiser les résidus afin de vérifier leur conformité au modèle."
   ]
  },
  {
   "cell_type": "code",
   "execution_count": null,
   "metadata": {},
   "outputs": [],
   "source": []
  },
  {
   "cell_type": "markdown",
   "metadata": {},
   "source": [
    "f) Calculer le levier de chaque observation"
   ]
  },
  {
   "cell_type": "markdown",
   "metadata": {},
   "source": [
    "D'après le cours : \n",
    "$$\n",
    "H = X (X^\\top X)^{-1}X^\\top\n",
    "$$\n",
    "les leviers de chaque point sont les $H_{ii}$\n",
    " on peut aussi écrire : \n",
    " $$\n",
    " H = X G\n",
    " $$\n",
    " avec \n",
    " $$\n",
    " G = (X^\\top X)^{-1}X^\\top\n",
    " $$\n",
    " La matrice $G$ est donc aussi solution des $n$ systèmes linéaires : \n",
    " $$\n",
    " (X^\\top X) \\; G = X^\\top\n",
    " $$"
   ]
  },
  {
   "cell_type": "code",
   "execution_count": 9,
   "metadata": {},
   "outputs": [
    {
     "data": {
      "text/plain": [
       "array([0.37789407, 0.1181502 , 0.11140572, 0.10500641, 0.09346591,\n",
       "       0.09322048, 0.09131189, 0.09604114, 0.1008192 , 0.10677539,\n",
       "       0.70590959])"
      ]
     },
     "execution_count": 9,
     "metadata": {},
     "output_type": "execute_result"
    }
   ],
   "source": [
    "H = X@np.linalg.inv(X.T@X)@X.T\n",
    "H = X@np.linalg.solve(X.T@X,X.T)  # plus stable et plus rapide\n",
    "h = np.diag(H)\n",
    "h"
   ]
  },
  {
   "cell_type": "markdown",
   "metadata": {},
   "source": [
    "g) Calculer la contribution de chaque observation"
   ]
  },
  {
   "cell_type": "markdown",
   "metadata": {},
   "source": [
    "d'après le cours \n",
    "$$\n",
    "    c_i = \\frac{H_{ii}}{(1 - H_{ii})^2}\\frac{\\hat \\varepsilon_i^2}{p s^2}\n",
    "$$"
   ]
  },
  {
   "cell_type": "code",
   "execution_count": null,
   "metadata": {},
   "outputs": [],
   "source": []
  },
  {
   "cell_type": "markdown",
   "metadata": {},
   "source": [
    "h) Visualisez tous ces résultats dans un tableau contenant le vecteur des observations\n",
    "$x$, le vecteur des réponses $y$, les prédiction du modèle, les résidus, les leviers, les\n",
    "contributions et une variable binaire repérant les points dont la contribution dépasse\n",
    "$4/n$."
   ]
  },
  {
   "cell_type": "code",
   "execution_count": 11,
   "metadata": {},
   "outputs": [
    {
     "name": "stdout",
     "output_type": "stream",
     "text": [
      "-------------------------------------------------------\n",
      "      x      y      z     e      h      c   Aberrant ?\n",
      "-------------------------------------------------------\n",
      "[[-1.078 -0.831 -0.164 -0.666  0.378  1.562  1.   ]\n",
      " [ 0.084  0.154  0.145  0.008  0.118  0.     0.   ]\n",
      " [ 0.152  0.093  0.164 -0.071  0.111  0.003  0.   ]\n",
      " [ 0.229  0.234  0.184  0.05   0.105  0.001  0.   ]\n",
      " [ 0.443  0.39   0.241  0.149  0.093  0.009  0.   ]\n",
      " [ 0.451  0.101  0.243 -0.143  0.093  0.008  0.   ]\n",
      " [ 0.538  0.481  0.266  0.215  0.091  0.018  0.   ]\n",
      " [ 0.826  0.659  0.343  0.316  0.096  0.042  0.   ]\n",
      " [ 0.913  0.718  0.366  0.351  0.101  0.055  0.   ]\n",
      " [ 0.996  0.765  0.388  0.376  0.107  0.068  0.   ]\n",
      " [ 3.06   0.352  0.938 -0.586  0.706 10.109  1.   ]]\n"
     ]
    }
   ],
   "source": [
    "Res = np.array([x, y, z, e, h, c , c>(4/n)])\n",
    "print('-------------------------------------------------------')\n",
    "print('      x      y      z     e      h      c   Aberrant ?')\n",
    "print('-------------------------------------------------------')\n",
    "with np.printoptions(precision=3, suppress=True):\n",
    "    print(Res.T)"
   ]
  },
  {
   "cell_type": "markdown",
   "metadata": {},
   "source": [
    "2. Nous allons maintenant « consolider » ces résultats en écrivant une fonction réutilisable (et par la même nous abstraire du copier/coller et de ces effets néfastes).\n",
    "    \n",
    "a) Écrire une fonction Python ma_reg permettant d’intégrer les calculs fait précédemment. Votre fonction prendra la matrice $X$ et le vecteur $y$ comme paramètres d’entrée et rendra :\n",
    "   \n",
    "- l’estimation des paramètres de la régression sens des moindres carrés,\n",
    "- une estimation de la variance des erreurs $\\sigma^2$,\n",
    "- le coefficient de détermination $R^2$\n",
    "- une matrice n × 3 contenants des éléments permettant de réaliser le diagnostic de la régression à savoir :\n",
    "    - les résidus,\n",
    "    - le levier de chaque observation,\n",
    "    - la contribution de chaque observation."
   ]
  },
  {
   "cell_type": "markdown",
   "metadata": {},
   "source": [
    "```python\n",
    "def ma_reg(X,y): \n",
    "    \n",
    "    return , , ,\n",
    "```"
   ]
  },
  {
   "cell_type": "code",
   "execution_count": null,
   "metadata": {},
   "outputs": [],
   "source": []
  },
  {
   "cell_type": "markdown",
   "metadata": {},
   "source": [
    "c) Ecrire un script Python permettant de tester cette fonction. Corriger votre dataset pour éliminer un ou plusieurs points suspects"
   ]
  },
  {
   "cell_type": "code",
   "execution_count": null,
   "metadata": {},
   "outputs": [],
   "source": []
  },
  {
   "cell_type": "markdown",
   "metadata": {},
   "source": [
    "Sans le dernier point, la regression est bien meilleure"
   ]
  },
  {
   "cell_type": "markdown",
   "metadata": {},
   "source": [
    "d) Que se passe t’il si l’on exécute les instruction suivantes ?"
   ]
  },
  {
   "cell_type": "markdown",
   "metadata": {
    "tags": []
   },
   "source": [
    "```python\n",
    "yp = X\n",
    "a, s2, R2, diagd = ma_reg(X,yp)\n",
    "```"
   ]
  },
  {
   "cell_type": "code",
   "execution_count": null,
   "metadata": {},
   "outputs": [],
   "source": []
  },
  {
   "cell_type": "markdown",
   "metadata": {},
   "source": [
    "e) Ajouter au début de la fonction ma_reg un test permettant de vérifier que les dimensions de la matrice $X$ et du vecteur $y$ sont bien conformes"
   ]
  },
  {
   "cell_type": "code",
   "execution_count": null,
   "metadata": {},
   "outputs": [],
   "source": []
  },
  {
   "cell_type": "markdown",
   "metadata": {},
   "source": [
    "3\\. Effectuer le diagnostic de la régression\n",
    "    \n",
    "a) trouver une observation avec un résidu important et un faible levier"
   ]
  },
  {
   "cell_type": "code",
   "execution_count": null,
   "metadata": {},
   "outputs": [],
   "source": []
  },
  {
   "cell_type": "markdown",
   "metadata": {},
   "source": [
    "b) trouver une observation avec un faible résidu et un fort levier\n",
    "    \n",
    "   "
   ]
  },
  {
   "cell_type": "code",
   "execution_count": null,
   "metadata": {},
   "outputs": [],
   "source": []
  },
  {
   "cell_type": "markdown",
   "metadata": {},
   "source": [
    "c) trouver une observation avec un fort résidu et un levier important. Vérifier que vous avez bien détecté qu’il s’agit d’un point aberrant.\n",
    "    \n",
    " "
   ]
  },
  {
   "cell_type": "code",
   "execution_count": null,
   "metadata": {},
   "outputs": [],
   "source": []
  },
  {
   "cell_type": "markdown",
   "metadata": {},
   "source": [
    "  \n",
    "d) Après avoir éliminé le point aberrant, refaire toutes les étapes de la régression"
   ]
  },
  {
   "cell_type": "code",
   "execution_count": null,
   "metadata": {},
   "outputs": [],
   "source": []
  },
  {
   "cell_type": "markdown",
   "metadata": {},
   "source": [
    "a) trouver une observation avec un résidu important et un faible levier\n",
    "    \n"
   ]
  },
  {
   "cell_type": "code",
   "execution_count": null,
   "metadata": {},
   "outputs": [],
   "source": []
  },
  {
   "cell_type": "markdown",
   "metadata": {},
   "source": [
    "b) trouver une observation avec un faible résidu et un fort levier\n",
    "   "
   ]
  },
  {
   "cell_type": "code",
   "execution_count": null,
   "metadata": {},
   "outputs": [],
   "source": []
  },
  {
   "cell_type": "markdown",
   "metadata": {},
   "source": [
    "## Ex. 2 — Modèle mal spécifié\n",
    "On considère les n = 11 observations suivantes :\n",
    "\n",
    "x| 1.00 |1.50| 2.00| 2.50| 3.00| 3.50| 4.00| 4.50| 5.00| 5.50| 6.0000\n",
    "---|---|---|---|---|---|---|---|---|---|---|---|\n",
    "y| 5.10| 4.56| 4.85| 7.48| 9.10| 11.65| 14.87| 19.20| 24.23| 32.10| 39.80\n",
    "\n",
    "1. Effectuer le régression linéaire entre x et y et déterminer le coefficient de corrélation et visualiser les résidus. Ces résidus sont-ils conformes aux hypothèses de la régression ?"
   ]
  },
  {
   "cell_type": "code",
   "execution_count": 21,
   "metadata": {},
   "outputs": [],
   "source": [
    "D = np.array([[1, 5.1],\n",
    "[1.5, 4.56],\n",
    "[2, 4.85],\n",
    "[2.5, 7.48],\n",
    "[3, 9.1],\n",
    "[3.5, 11.65],\n",
    "[4, 14.87],\n",
    "[4.5, 19.2],\n",
    "[5, 24.23],\n",
    "[5.5, 32.1],\n",
    "[6, 39.8]])\n",
    "\n",
    "x = D[:,0]\n",
    "y = D[:,1]"
   ]
  },
  {
   "cell_type": "code",
   "execution_count": null,
   "metadata": {},
   "outputs": [],
   "source": []
  },
  {
   "cell_type": "markdown",
   "metadata": {},
   "source": [
    "2\\. Effectuer la régression polynomiale (degré 2) entre x et y et déterminer le coefficient de détermination. La régression polynomiale consiste à faire l’hypothèse que les observations $y$ sont liées aux $x$ à travers le modèle quadratique :\n",
    "\n",
    "$y_i = a_0 + a_1x_i + a_2x^2_i + \\epsilon_i\\text{, avec } i = 1, n$\n",
    "\n",
    "où les $\\epsilon_i$ sont des variables aléatoires i.i.d. distribuées selon une loi normale centrée de\n",
    "variance $\\sigma^2$ inconnue et $(a_0, a_1, a_2)$ sont trois paramètres inconnus."
   ]
  },
  {
   "cell_type": "code",
   "execution_count": null,
   "metadata": {},
   "outputs": [],
   "source": []
  },
  {
   "cell_type": "markdown",
   "metadata": {},
   "source": [
    "3\\. Visualiser les résidus de la régression et vérifier qu’ils vérifient bien les hypothèses de la régression."
   ]
  },
  {
   "cell_type": "code",
   "execution_count": null,
   "metadata": {},
   "outputs": [],
   "source": []
  },
  {
   "cell_type": "markdown",
   "metadata": {},
   "source": [
    "4\\. Comparez les coefficients de détermination des deux régressions."
   ]
  },
  {
   "cell_type": "code",
   "execution_count": null,
   "metadata": {},
   "outputs": [],
   "source": []
  }
 ],
 "metadata": {
  "kernelspec": {
   "display_name": "Python 3 (ipykernel)",
   "language": "python",
   "name": "python3"
  },
  "language_info": {
   "codemirror_mode": {
    "name": "ipython",
    "version": 3
   },
   "file_extension": ".py",
   "mimetype": "text/x-python",
   "name": "python",
   "nbconvert_exporter": "python",
   "pygments_lexer": "ipython3",
   "version": "3.10.12"
  }
 },
 "nbformat": 4,
 "nbformat_minor": 4
}
